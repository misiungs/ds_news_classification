{
  "cells": [
    {
      "cell_type": "markdown",
      "metadata": {
        "id": "RJPAB8C4IHDg"
      },
      "source": [
        "### Introduction\n",
        "In this project we will classify news based on its content. The AG news dataset will be used for it. First, Naive Bayes model will be built based on a mutinomial event model. Next, recurrent neural network with long short-term memory units trained from scratch will be used. Finally, the same neural network will be used but this time with transfer learning - we use pretrained word embeddings from GloVe library.\n",
        "### Import libraries \n",
        "We first import all necessary libraries."
      ]
    },
    {
      "cell_type": "code",
      "execution_count": 1,
      "metadata": {
        "id": "qXgr-0OHMYr3"
      },
      "outputs": [],
      "source": [
        "import re\n",
        "import sys\n",
        "import chardet\n",
        "import random\n",
        "import html\n",
        "import string\n",
        "import nltk\n",
        "\n",
        "import numpy as np\n",
        "import pandas as pd\n",
        "import seaborn as sns\n",
        "import matplotlib.pyplot as plt\n",
        "import tensorflow_datasets as tfds\n",
        "import tensorflow as tf\n",
        "\n",
        "from tensorflow.keras.layers.experimental.preprocessing import TextVectorization\n",
        "from tensorflow.keras.models import Model, Sequential\n",
        "from tensorflow.keras.layers import Embedding, LSTM, Dense, Dropout, GlobalMaxPooling1D, Bidirectional\n",
        "\n",
        "from nltk.corpus import stopwords \n",
        "from nltk.tokenize import word_tokenize\n",
        "from nltk.stem import PorterStemmer\n",
        "\n",
        "from sklearn.metrics import accuracy_score\n",
        "from sklearn.metrics import recall_score\n",
        "from sklearn.metrics import precision_score\n",
        "from sklearn.metrics import f1_score\n",
        "from sklearn.metrics import confusion_matrix\n",
        "from mlxtend.plotting import plot_confusion_matrix\n",
        "\n",
        "# to display training progress & keep output clean\n",
        "from IPython.display import clear_output"
      ]
    },
    {
      "cell_type": "code",
      "execution_count": 2,
      "metadata": {
        "colab": {
          "base_uri": "https://localhost:8080/",
          "height": 34
        },
        "id": "sXbmU_z8Mey7",
        "outputId": "c4cc2b0b-9269-4c84-acad-545c434eea3b"
      },
      "outputs": [
        {
          "data": {
            "application/vnd.google.colaboratory.intrinsic+json": {
              "type": "string"
            },
            "text/plain": [
              "'/device:GPU:0'"
            ]
          },
          "execution_count": 2,
          "metadata": {
            "tags": []
          },
          "output_type": "execute_result"
        }
      ],
      "source": [
        "tf.test.gpu_device_name()"
      ]
    },
    {
      "cell_type": "markdown",
      "metadata": {
        "id": "EL0NAD4DIMeH"
      },
      "source": [
        "### Load dataset\n",
        "We load the dataset and we preliminary investigate it."
      ]
    },
    {
      "cell_type": "code",
      "execution_count": 3,
      "metadata": {
        "colab": {
          "base_uri": "https://localhost:8080/",
          "height": 343,
          "referenced_widgets": [
            "d257a8bb8b8949b89f2af0d859b968d3",
            "ff7183f04b4545548435f353f4b4d680",
            "9ee03d89ca104d2c85337722285fbce3",
            "dd86e53bdd20413b9a7de32dc25e01c3",
            "a85e0c8576a64412a7c9d22697fc97d5",
            "1fd475f165304f5cbe5a8c525cfa257d",
            "e108a17b6afb44e1819cca6629ff3c04",
            "4953d5fbb1424510bb5f1d09aae0ea01",
            "9196e2a5b16c48e1a6b840f6e0135f60",
            "7e93b72a624243be8a6fce8ebed2e8e5",
            "b7e0d73351ab4a5eb496772be9db588e",
            "7a954e7ad9804b1fa81db1a47a4c6aab",
            "d6b8949b761a4d9badb60311f6b81270",
            "7c1ed20fd8d04df1a61e0bc5059a2c2c",
            "c07c5869bd2a4698ade728bebced41ef",
            "d153bae6116d40fe88518c775dc6f558",
            "b6b2f0246c6341cbaccbf2f299f16155",
            "52a1cb808fee4e5785a9c85c7877455c",
            "dce8a82ce7eb4d5392d3832fd90d9dc7",
            "ba9470f8fa2247679566513548de3537",
            "1adea849c8aa46d4a5b22102f81886a2",
            "509d7153c2b54242a17de193cc041439",
            "2a7f46f9e3b54f63be1e8e65897499e0",
            "fa721b0547aa46f7862184788a4bf709",
            "6098f4b82e414657bf4e44c779ccbf42",
            "0ccd9c03e9d74fea9915228499c26f92",
            "2ddf775d87a7423689bcd01112e4af17",
            "eb2658a24ede4e59a0e5a0208a036ce2",
            "40d0b3ff7abe46fea85e990a66f7c745",
            "639ccd938e904b1c8ad1e84a4cae8d33",
            "2cc746e23a734e6fa04aa838f9905e13",
            "7ccddd7d1dca4d63afd9f0b62fa58a4b",
            "9f13b0b1fd4b4ee48b4a98ce95ed0b8c",
            "86409fed62f141d7b7695a85797c406e",
            "6c8d23756cb74583bdbf042ab2555c73",
            "8a04cadc43e24ca39f1bdfe0f81f4ae9",
            "6f973443a95b4b4e9408a7e85ab62536",
            "32778a31c70e45fdae1affb45bbc0d9d",
            "c1cf1270fcd840b4a00b0b4fd4ba1c73",
            "cfcdabc4e6ec4449b561bf3acd573bcc",
            "f94112361e014348b8df8d79e2abb19d",
            "28445e57533c45a8820e47f64bf910f2",
            "328635009338479a8525f34b25372452",
            "e8b8a79069214388b8024d15f1f020ef",
            "ffcfa672860a4b119eb5178fb78461c6",
            "19c06c2900ba4101bdcce074c7834b70",
            "ccdb9659932242a1994b792dbb391971",
            "06cea5fe11ae4c2a96c7c7e663a9bbef",
            "dbac1ca0e53f41269e38d142a09b8be7",
            "4dcb226a8e4e4ccb9e8fc5218c84767f",
            "800c9ccaee3c45499e57face9124644f",
            "d741c058374b46c1a2ab3bd2ed22d8af",
            "d75bf8c6212f43caafd944ce1720a294",
            "e0388d4052014ffeb6d394ce5bd003a1",
            "6f1081f7d1ce45ec85ade01232dc8e33",
            "0e1e03483a79437c91713015c1b0f98b"
          ]
        },
        "id": "9Gmi2MFAaaV5",
        "outputId": "7bd6b72c-61d8-47b5-c7c9-6b275e149fea"
      },
      "outputs": [
        {
          "name": "stdout",
          "output_type": "stream",
          "text": [
            "\u001b[1mDownloading and preparing dataset ag_news_subset/1.0.0 (download: 11.24 MiB, generated: 35.79 MiB, total: 47.03 MiB) to /root/tensorflow_datasets/ag_news_subset/1.0.0...\u001b[0m\n"
          ]
        },
        {
          "data": {
            "application/vnd.jupyter.widget-view+json": {
              "model_id": "d257a8bb8b8949b89f2af0d859b968d3",
              "version_major": 2,
              "version_minor": 0
            },
            "text/plain": [
              "HBox(children=(FloatProgress(value=1.0, bar_style='info', description='Dl Completed...', max=1.0, style=Progre…"
            ]
          },
          "metadata": {
            "tags": []
          },
          "output_type": "display_data"
        },
        {
          "data": {
            "application/vnd.jupyter.widget-view+json": {
              "model_id": "9196e2a5b16c48e1a6b840f6e0135f60",
              "version_major": 2,
              "version_minor": 0
            },
            "text/plain": [
              "HBox(children=(FloatProgress(value=1.0, bar_style='info', description='Dl Size...', max=1.0, style=ProgressSty…"
            ]
          },
          "metadata": {
            "tags": []
          },
          "output_type": "display_data"
        },
        {
          "data": {
            "application/vnd.jupyter.widget-view+json": {
              "model_id": "b6b2f0246c6341cbaccbf2f299f16155",
              "version_major": 2,
              "version_minor": 0
            },
            "text/plain": [
              "HBox(children=(FloatProgress(value=1.0, bar_style='info', description='Extraction completed...', max=1.0, styl…"
            ]
          },
          "metadata": {
            "tags": []
          },
          "output_type": "display_data"
        },
        {
          "name": "stdout",
          "output_type": "stream",
          "text": [
            "\n",
            "\n",
            "\n",
            "\n",
            "\n",
            "\n"
          ]
        },
        {
          "data": {
            "application/vnd.jupyter.widget-view+json": {
              "model_id": "6098f4b82e414657bf4e44c779ccbf42",
              "version_major": 2,
              "version_minor": 0
            },
            "text/plain": [
              "HBox(children=(FloatProgress(value=1.0, bar_style='info', max=1.0), HTML(value='')))"
            ]
          },
          "metadata": {
            "tags": []
          },
          "output_type": "display_data"
        },
        {
          "name": "stdout",
          "output_type": "stream",
          "text": [
            "\r",
            "Shuffling and writing examples to /root/tensorflow_datasets/ag_news_subset/1.0.0.incompleteMHGVLD/ag_news_subset-train.tfrecord\n"
          ]
        },
        {
          "data": {
            "application/vnd.jupyter.widget-view+json": {
              "model_id": "9f13b0b1fd4b4ee48b4a98ce95ed0b8c",
              "version_major": 2,
              "version_minor": 0
            },
            "text/plain": [
              "HBox(children=(FloatProgress(value=0.0, max=120000.0), HTML(value='')))"
            ]
          },
          "metadata": {
            "tags": []
          },
          "output_type": "display_data"
        },
        {
          "name": "stdout",
          "output_type": "stream",
          "text": [
            "\r"
          ]
        },
        {
          "data": {
            "application/vnd.jupyter.widget-view+json": {
              "model_id": "f94112361e014348b8df8d79e2abb19d",
              "version_major": 2,
              "version_minor": 0
            },
            "text/plain": [
              "HBox(children=(FloatProgress(value=1.0, bar_style='info', max=1.0), HTML(value='')))"
            ]
          },
          "metadata": {
            "tags": []
          },
          "output_type": "display_data"
        },
        {
          "name": "stdout",
          "output_type": "stream",
          "text": [
            "\r",
            "Shuffling and writing examples to /root/tensorflow_datasets/ag_news_subset/1.0.0.incompleteMHGVLD/ag_news_subset-test.tfrecord\n"
          ]
        },
        {
          "data": {
            "application/vnd.jupyter.widget-view+json": {
              "model_id": "dbac1ca0e53f41269e38d142a09b8be7",
              "version_major": 2,
              "version_minor": 0
            },
            "text/plain": [
              "HBox(children=(FloatProgress(value=0.0, max=7600.0), HTML(value='')))"
            ]
          },
          "metadata": {
            "tags": []
          },
          "output_type": "display_data"
        },
        {
          "name": "stdout",
          "output_type": "stream",
          "text": [
            "\u001b[1mDataset ag_news_subset downloaded and prepared to /root/tensorflow_datasets/ag_news_subset/1.0.0. Subsequent calls will reuse this data.\u001b[0m\n"
          ]
        }
      ],
      "source": [
        "train_desc, train_label = tfds.as_numpy(tfds.load(\n",
        "    'ag_news_subset',\n",
        "    split='train',\n",
        "    batch_size=-1,\n",
        "    as_supervised=True,\n",
        "))"
      ]
    },
    {
      "cell_type": "markdown",
      "metadata": {
        "id": "s3Tg8t_cIQiZ"
      },
      "source": [
        "Let's plot some of the news."
      ]
    },
    {
      "cell_type": "code",
      "execution_count": 4,
      "metadata": {
        "colab": {
          "base_uri": "https://localhost:8080/"
        },
        "id": "PEUIAjjpH6mD",
        "outputId": "f1ab1e63-6d70-4ba2-aa6f-e1afb3719900"
      },
      "outputs": [
        {
          "name": "stdout",
          "output_type": "stream",
          "text": [
            "b'AMD #39;s new dual-core Opteron chip is designed mainly for corporate computing applications, including databases, Web services, and financial transactions.'\n",
            "b'Reuters - Major League Baseball\\\\Monday announced a decision on the appeal filed by Chicago Cubs\\\\pitcher Kerry Wood regarding a suspension stemming from an\\\\incident earlier this season.'\n",
            "b'President Bush #39;s  quot;revenue-neutral quot; tax reform needs losers to balance its winners, and people claiming the federal deduction for state and local taxes may be in administration planners #39; sights, news reports say.'\n",
            "b'Britain will run out of leading scientists unless science education is improved, says Professor Colin Pillinger.'\n",
            "b'London, England (Sports Network) - England midfielder Steven Gerrard injured his groin late in Thursday #39;s training session, but is hopeful he will be ready for Saturday #39;s World Cup qualifier against Austria.'\n",
            "b'TOKYO - Sony Corp. is banking on the \\\\$3 billion deal to acquire Hollywood studio Metro-Goldwyn-Mayer Inc...'\n",
            "b'Giant pandas may well prefer bamboo to laptops, but wireless technology is helping researchers in China in their efforts to protect the engandered animals living in the remote Wolong Nature Reserve.'\n",
            "b'VILNIUS, Lithuania - Lithuania #39;s main parties formed an alliance to try to keep a Russian-born tycoon and his populist promises out of the government in Sunday #39;s second round of parliamentary elections in this Baltic country.'\n",
            "b'Witnesses in the trial of a US soldier charged with abusing prisoners at Abu Ghraib have told the court that the CIA sometimes directed abuse and orders were received from military command to toughen interrogations.'\n",
            "b'Dan Olsen of Ponte Vedra Beach, Fla., shot a 7-under 65 Thursday to take a one-shot lead after two rounds of the PGA Tour qualifying tournament.'\n"
          ]
        }
      ],
      "source": [
        "for row in train_desc[:10]:\n",
        "  print(row)"
      ]
    },
    {
      "cell_type": "markdown",
      "metadata": {
        "id": "max5mJGsIURp"
      },
      "source": [
        "Data is in byte string format, so it has to decoded to be properly handled. We first check encoding for 10 random rows."
      ]
    },
    {
      "cell_type": "code",
      "execution_count": 5,
      "metadata": {
        "colab": {
          "base_uri": "https://localhost:8080/"
        },
        "id": "esBpdOSaKQTl",
        "outputId": "1b1556db-a44a-4cf4-90d2-e6a23dd96a2d"
      },
      "outputs": [
        {
          "name": "stdout",
          "output_type": "stream",
          "text": [
            "{'encoding': 'ascii', 'confidence': 1.0, 'language': ''}\n",
            "{'encoding': 'ascii', 'confidence': 1.0, 'language': ''}\n",
            "{'encoding': 'ascii', 'confidence': 1.0, 'language': ''}\n",
            "{'encoding': 'ascii', 'confidence': 1.0, 'language': ''}\n",
            "{'encoding': 'ascii', 'confidence': 1.0, 'language': ''}\n",
            "{'encoding': 'ascii', 'confidence': 1.0, 'language': ''}\n",
            "{'encoding': 'ascii', 'confidence': 1.0, 'language': ''}\n",
            "{'encoding': 'ascii', 'confidence': 1.0, 'language': ''}\n",
            "{'encoding': 'ascii', 'confidence': 1.0, 'language': ''}\n",
            "{'encoding': 'ascii', 'confidence': 1.0, 'language': ''}\n"
          ]
        }
      ],
      "source": [
        "for x in range(10):\n",
        "  print(chardet.detect(train_desc[random.randint(0,len(train_desc))]))"
      ]
    },
    {
      "cell_type": "markdown",
      "metadata": {
        "id": "YSxYmX1tI0qx"
      },
      "source": [
        "### Data preprocessing\n",
        "Encoding that has been used is ascii. Besides that some html leftovers are present in the text. We make a routine that will preprocess our text: it decodes the text, lowercase it, remove all redundant characters and finally we apply stemming.\n",
        "\n"
      ]
    },
    {
      "cell_type": "code",
      "execution_count": 6,
      "metadata": {
        "colab": {
          "base_uri": "https://localhost:8080/"
        },
        "id": "tge6dUKfSun-",
        "outputId": "f5d4c4cf-298b-4b73-d39e-43f69fc3d90c"
      },
      "outputs": [
        {
          "name": "stdout",
          "output_type": "stream",
          "text": [
            "[nltk_data] Downloading package stopwords to /root/nltk_data...\n",
            "[nltk_data]   Unzipping corpora/stopwords.zip.\n",
            "[nltk_data] Downloading package punkt to /root/nltk_data...\n",
            "[nltk_data]   Unzipping tokenizers/punkt.zip.\n"
          ]
        }
      ],
      "source": [
        "nltk.download('stopwords')\n",
        "nltk.download('punkt')\n",
        "\n",
        "def process_text(text):\n",
        "  # decode\n",
        "  text = text.decode('ascii')\n",
        "  # unescape html\n",
        "  text = html.unescape(text)\n",
        "  # lower\n",
        "  text = text.lower()\n",
        "  # dict for wrongly read html characters\n",
        "  dictConv = {f' #{i};':chr(i) for i in range(255)}\n",
        "  dictConv.update({f' {i};':chr(i) for i in range(255)})\n",
        "  dictConv.update({f'0{i};':chr(i) for i in range(255)})\n",
        "  dictConv['quot;'] = '' \n",
        "  dictConv['amp;'] = '' \n",
        "  dictConv['nbsp;'] = '' \n",
        "  dictConv['gt;'] = '' \n",
        "  dictConv['lt;'] = ''   \n",
        "  dictConv[' 8217;'] = ''\n",
        "  for key in dictConv.keys():\n",
        "    text = text.replace(key, dictConv[key])\n",
        "  # remove html signs\n",
        "  text = re.sub('<[^<]+?>', '', text)\n",
        "  # remove hyperlinks\n",
        "  text = re.sub('http[s]?://(?:[a-zA-Z]|[0-9]|[$-_@.&+]|[!*\\(\\),]|(?:%[0-9a-fA-F][0-9a-fA-F]))+', 'url', text)\n",
        "  # possible hastags\n",
        "  text = re.sub(r'#', '', text)\n",
        "  # unicode leftovers\n",
        "  text = re.sub(r\"\\\\x[0-9]+\", ' ', str(text))\n",
        "  # clean some other mess\n",
        "  text = text.replace('\\\\', ' ')\n",
        "  text = text.replace(\"'s\", ' ')\n",
        "  text = text.replace(\"\\'\", \"'\")\n",
        "  #\"\"\"\n",
        "  stemmer = PorterStemmer()\n",
        "  stop_words = set(stopwords.words('english'))\n",
        "  text_tokens = word_tokenize(text) \n",
        "  text_clean = []\n",
        "  for word in text_tokens:\n",
        "      if (word not in stop_words and  # remove stopwords\n",
        "              word not in string.punctuation):  # remove punctuation\n",
        "          # tweets_clean.append(word)\n",
        "          stem_word = stemmer.stem(word)  # stemming word\n",
        "          if stem_word.isalpha():\n",
        "            text_clean.append(stem_word)\n",
        "  \n",
        "  return text_clean"
      ]
    },
    {
      "cell_type": "code",
      "execution_count": 7,
      "metadata": {
        "id": "mPYrf4EZmsNj"
      },
      "outputs": [],
      "source": [
        "train_x = [process_text(rev) for rev in train_desc]\n",
        "train_y = train_label"
      ]
    },
    {
      "cell_type": "markdown",
      "metadata": {
        "id": "qAAeAvZCSGlE"
      },
      "source": [
        "Let's now check the data."
      ]
    },
    {
      "cell_type": "code",
      "execution_count": 8,
      "metadata": {
        "colab": {
          "base_uri": "https://localhost:8080/"
        },
        "id": "QabpCJHWSB8W",
        "outputId": "a0f845ef-1c2e-486a-8239-0a0a72a95e30"
      },
      "outputs": [
        {
          "name": "stdout",
          "output_type": "stream",
          "text": [
            "['amd', 'new', 'opteron', 'chip', 'design', 'mainli', 'corpor', 'comput', 'applic', 'includ', 'databas', 'web', 'servic', 'financi', 'transact']\n",
            "['reuter', 'major', 'leagu', 'basebal', 'monday', 'announc', 'decis', 'appeal', 'file', 'chicago', 'cub', 'pitcher', 'kerri', 'wood', 'regard', 'suspens', 'stem', 'incid', 'earlier', 'season']\n",
            "['presid', 'bush', 'tax', 'reform', 'need', 'loser', 'balanc', 'winner', 'peopl', 'claim', 'feder', 'deduct', 'state', 'local', 'tax', 'may', 'administr', 'planner', 'sight', 'news', 'report', 'say']\n",
            "['britain', 'run', 'lead', 'scientist', 'unless', 'scienc', 'educ', 'improv', 'say', 'professor', 'colin', 'pilling']\n",
            "['london', 'england', 'sport', 'network', 'england', 'midfield', 'steven', 'gerrard', 'injur', 'groin', 'late', 'thursday', 'train', 'session', 'hope', 'readi', 'saturday', 'world', 'cup', 'qualifi', 'austria']\n",
            "['tokyo', 'soni', 'bank', 'billion', 'deal', 'acquir', 'hollywood', 'studio', 'inc']\n",
            "['giant', 'panda', 'may', 'well', 'prefer', 'bamboo', 'laptop', 'wireless', 'technolog', 'help', 'research', 'china', 'effort', 'protect', 'engand', 'anim', 'live', 'remot', 'wolong', 'natur', 'reserv']\n",
            "['vilniu', 'lithuania', 'lithuania', 'main', 'parti', 'form', 'allianc', 'tri', 'keep', 'tycoon', 'populist', 'promis', 'govern', 'sunday', 'second', 'round', 'parliamentari', 'elect', 'baltic', 'countri']\n",
            "['wit', 'trial', 'us', 'soldier', 'charg', 'abus', 'prison', 'abu', 'ghraib', 'told', 'court', 'cia', 'sometim', 'direct', 'abus', 'order', 'receiv', 'militari', 'command', 'toughen', 'interrog']\n",
            "['dan', 'olsen', 'pont', 'vedra', 'beach', 'shot', 'thursday', 'take', 'lead', 'two', 'round', 'pga', 'tour', 'qualifi', 'tournament']\n"
          ]
        }
      ],
      "source": [
        "for row in train_x[:10]:\n",
        "  print(row)"
      ]
    },
    {
      "cell_type": "markdown",
      "metadata": {
        "id": "cN3omO2LJAXv"
      },
      "source": [
        "### Data exploration\n",
        "Data has been cleaned. Next, we build a pandas dataframe to gain more insight into data."
      ]
    },
    {
      "cell_type": "code",
      "execution_count": 9,
      "metadata": {
        "colab": {
          "base_uri": "https://localhost:8080/",
          "height": 287
        },
        "id": "NFeKA8ADlq4q",
        "outputId": "bbcdee23-b762-4157-b3fa-4d0f02941e2e"
      },
      "outputs": [
        {
          "data": {
            "text/html": [
              "<div>\n",
              "<style scoped>\n",
              "    .dataframe tbody tr th:only-of-type {\n",
              "        vertical-align: middle;\n",
              "    }\n",
              "\n",
              "    .dataframe tbody tr th {\n",
              "        vertical-align: top;\n",
              "    }\n",
              "\n",
              "    .dataframe thead th {\n",
              "        text-align: right;\n",
              "    }\n",
              "</style>\n",
              "<table border=\"1\" class=\"dataframe\">\n",
              "  <thead>\n",
              "    <tr style=\"text-align: right;\">\n",
              "      <th></th>\n",
              "      <th>char_count</th>\n",
              "      <th>word_count</th>\n",
              "      <th>label</th>\n",
              "    </tr>\n",
              "  </thead>\n",
              "  <tbody>\n",
              "    <tr>\n",
              "      <th>count</th>\n",
              "      <td>120000.000000</td>\n",
              "      <td>120000.000000</td>\n",
              "      <td>120000.000000</td>\n",
              "    </tr>\n",
              "    <tr>\n",
              "      <th>mean</th>\n",
              "      <td>118.920675</td>\n",
              "      <td>18.550267</td>\n",
              "      <td>1.500000</td>\n",
              "    </tr>\n",
              "    <tr>\n",
              "      <th>std</th>\n",
              "      <td>37.046116</td>\n",
              "      <td>5.712552</td>\n",
              "      <td>1.118039</td>\n",
              "    </tr>\n",
              "    <tr>\n",
              "      <th>min</th>\n",
              "      <td>0.000000</td>\n",
              "      <td>0.000000</td>\n",
              "      <td>0.000000</td>\n",
              "    </tr>\n",
              "    <tr>\n",
              "      <th>25%</th>\n",
              "      <td>96.000000</td>\n",
              "      <td>15.000000</td>\n",
              "      <td>0.750000</td>\n",
              "    </tr>\n",
              "    <tr>\n",
              "      <th>50%</th>\n",
              "      <td>117.000000</td>\n",
              "      <td>18.000000</td>\n",
              "      <td>1.500000</td>\n",
              "    </tr>\n",
              "    <tr>\n",
              "      <th>75%</th>\n",
              "      <td>138.000000</td>\n",
              "      <td>21.000000</td>\n",
              "      <td>2.250000</td>\n",
              "    </tr>\n",
              "    <tr>\n",
              "      <th>max</th>\n",
              "      <td>581.000000</td>\n",
              "      <td>93.000000</td>\n",
              "      <td>3.000000</td>\n",
              "    </tr>\n",
              "  </tbody>\n",
              "</table>\n",
              "</div>"
            ],
            "text/plain": [
              "          char_count     word_count          label\n",
              "count  120000.000000  120000.000000  120000.000000\n",
              "mean      118.920675      18.550267       1.500000\n",
              "std        37.046116       5.712552       1.118039\n",
              "min         0.000000       0.000000       0.000000\n",
              "25%        96.000000      15.000000       0.750000\n",
              "50%       117.000000      18.000000       1.500000\n",
              "75%       138.000000      21.000000       2.250000\n",
              "max       581.000000      93.000000       3.000000"
            ]
          },
          "execution_count": 9,
          "metadata": {
            "tags": []
          },
          "output_type": "execute_result"
        }
      ],
      "source": [
        "ds_stat = pd.DataFrame({'description': train_x, 'char_count': [len( \" \".join(review)) for review in train_x],\n",
        "                        'word_count': [len(review) for review in train_x], 'label':train_label})\n",
        "ds_stat.describe()"
      ]
    },
    {
      "cell_type": "markdown",
      "metadata": {
        "id": "ZRLJtNz2ScUK"
      },
      "source": [
        "On average preprocessed news has 19 words and the maximal news length is 93."
      ]
    },
    {
      "cell_type": "code",
      "execution_count": 10,
      "metadata": {
        "colab": {
          "base_uri": "https://localhost:8080/",
          "height": 406
        },
        "id": "XL18tdneltzU",
        "outputId": "2e4f7a03-9db9-4a29-8dd1-6813f2b6260e"
      },
      "outputs": [
        {
          "data": {
            "text/html": [
              "<div>\n",
              "<style scoped>\n",
              "    .dataframe tbody tr th:only-of-type {\n",
              "        vertical-align: middle;\n",
              "    }\n",
              "\n",
              "    .dataframe tbody tr th {\n",
              "        vertical-align: top;\n",
              "    }\n",
              "\n",
              "    .dataframe thead th {\n",
              "        text-align: right;\n",
              "    }\n",
              "</style>\n",
              "<table border=\"1\" class=\"dataframe\">\n",
              "  <thead>\n",
              "    <tr style=\"text-align: right;\">\n",
              "      <th></th>\n",
              "      <th>description</th>\n",
              "      <th>char_count</th>\n",
              "      <th>word_count</th>\n",
              "      <th>label</th>\n",
              "    </tr>\n",
              "  </thead>\n",
              "  <tbody>\n",
              "    <tr>\n",
              "      <th>0</th>\n",
              "      <td>[amd, new, opteron, chip, design, mainli, corp...</td>\n",
              "      <td>98</td>\n",
              "      <td>15</td>\n",
              "      <td>3</td>\n",
              "    </tr>\n",
              "    <tr>\n",
              "      <th>1</th>\n",
              "      <td>[reuter, major, leagu, basebal, monday, announ...</td>\n",
              "      <td>131</td>\n",
              "      <td>20</td>\n",
              "      <td>1</td>\n",
              "    </tr>\n",
              "    <tr>\n",
              "      <th>2</th>\n",
              "      <td>[presid, bush, tax, reform, need, loser, balan...</td>\n",
              "      <td>132</td>\n",
              "      <td>22</td>\n",
              "      <td>2</td>\n",
              "    </tr>\n",
              "    <tr>\n",
              "      <th>3</th>\n",
              "      <td>[britain, run, lead, scientist, unless, scienc...</td>\n",
              "      <td>80</td>\n",
              "      <td>12</td>\n",
              "      <td>3</td>\n",
              "    </tr>\n",
              "    <tr>\n",
              "      <th>4</th>\n",
              "      <td>[london, england, sport, network, england, mid...</td>\n",
              "      <td>146</td>\n",
              "      <td>21</td>\n",
              "      <td>1</td>\n",
              "    </tr>\n",
              "    <tr>\n",
              "      <th>...</th>\n",
              "      <td>...</td>\n",
              "      <td>...</td>\n",
              "      <td>...</td>\n",
              "      <td>...</td>\n",
              "    </tr>\n",
              "    <tr>\n",
              "      <th>119995</th>\n",
              "      <td>[ivan, ljubic, edg, seed, joachim, johansson, ...</td>\n",
              "      <td>133</td>\n",
              "      <td>21</td>\n",
              "      <td>1</td>\n",
              "    </tr>\n",
              "    <tr>\n",
              "      <th>119996</th>\n",
              "      <td>[manama, billion, million, combin, power, wate...</td>\n",
              "      <td>99</td>\n",
              "      <td>14</td>\n",
              "      <td>2</td>\n",
              "    </tr>\n",
              "    <tr>\n",
              "      <th>119997</th>\n",
              "      <td>[lo, hawk, begat, dove, least, one, imagin, pr...</td>\n",
              "      <td>141</td>\n",
              "      <td>24</td>\n",
              "      <td>0</td>\n",
              "    </tr>\n",
              "    <tr>\n",
              "      <th>119998</th>\n",
              "      <td>[west, palm, beach, fl, sport, network, tom, l...</td>\n",
              "      <td>106</td>\n",
              "      <td>19</td>\n",
              "      <td>1</td>\n",
              "    </tr>\n",
              "    <tr>\n",
              "      <th>119999</th>\n",
              "      <td>[feder, commun, commiss, way, everi, american,...</td>\n",
              "      <td>101</td>\n",
              "      <td>17</td>\n",
              "      <td>2</td>\n",
              "    </tr>\n",
              "  </tbody>\n",
              "</table>\n",
              "<p>120000 rows × 4 columns</p>\n",
              "</div>"
            ],
            "text/plain": [
              "                                              description  ...  label\n",
              "0       [amd, new, opteron, chip, design, mainli, corp...  ...      3\n",
              "1       [reuter, major, leagu, basebal, monday, announ...  ...      1\n",
              "2       [presid, bush, tax, reform, need, loser, balan...  ...      2\n",
              "3       [britain, run, lead, scientist, unless, scienc...  ...      3\n",
              "4       [london, england, sport, network, england, mid...  ...      1\n",
              "...                                                   ...  ...    ...\n",
              "119995  [ivan, ljubic, edg, seed, joachim, johansson, ...  ...      1\n",
              "119996  [manama, billion, million, combin, power, wate...  ...      2\n",
              "119997  [lo, hawk, begat, dove, least, one, imagin, pr...  ...      0\n",
              "119998  [west, palm, beach, fl, sport, network, tom, l...  ...      1\n",
              "119999  [feder, commun, commiss, way, everi, american,...  ...      2\n",
              "\n",
              "[120000 rows x 4 columns]"
            ]
          },
          "execution_count": 10,
          "metadata": {
            "tags": []
          },
          "output_type": "execute_result"
        }
      ],
      "source": [
        "ds_stat"
      ]
    },
    {
      "cell_type": "markdown",
      "metadata": {
        "id": "xhwcY2TeJJ9v"
      },
      "source": [
        "Let's check histogram of words count."
      ]
    },
    {
      "cell_type": "code",
      "execution_count": 11,
      "metadata": {
        "colab": {
          "base_uri": "https://localhost:8080/",
          "height": 296
        },
        "id": "3Ly57jR08nb-",
        "outputId": "53305ef9-c7da-4122-ea93-a57d76e983b3"
      },
      "outputs": [
        {
          "data": {
            "text/plain": [
              "<matplotlib.axes._subplots.AxesSubplot at 0x7f35175bab10>"
            ]
          },
          "execution_count": 11,
          "metadata": {
            "tags": []
          },
          "output_type": "execute_result"
        },
        {
          "data": {
            "image/png": "[encoded data removed]",
            "text/plain": [
              "<Figure size 432x288 with 1 Axes>"
            ]
          },
          "metadata": {
            "needs_background": "light",
            "tags": []
          },
          "output_type": "display_data"
        }
      ],
      "source": [
        "sns.histplot(data=ds_stat, x='word_count', bins=30)"
      ]
    },
    {
      "cell_type": "markdown",
      "metadata": {
        "id": "fsmFusV9JP4x"
      },
      "source": [
        "And of the characters."
      ]
    },
    {
      "cell_type": "code",
      "execution_count": 12,
      "metadata": {
        "colab": {
          "base_uri": "https://localhost:8080/",
          "height": 296
        },
        "id": "cLp7WrL985c7",
        "outputId": "fc9d7635-370f-43a9-f530-22f0e23fccd3"
      },
      "outputs": [
        {
          "data": {
            "text/plain": [
              "<matplotlib.axes._subplots.AxesSubplot at 0x7f35171cce50>"
            ]
          },
          "execution_count": 12,
          "metadata": {
            "tags": []
          },
          "output_type": "execute_result"
        },
        {
          "data": {
            "image/png": "[encoded data removed]",
            "text/plain": [
              "<Figure size 432x288 with 1 Axes>"
            ]
          },
          "metadata": {
            "needs_background": "light",
            "tags": []
          },
          "output_type": "display_data"
        }
      ],
      "source": [
        "sns.histplot(data=ds_stat, x='char_count', bins=30)"
      ]
    },
    {
      "cell_type": "markdown",
      "metadata": {
        "id": "C8T0NgtXJSe7"
      },
      "source": [
        "Let's see if there is some substantial difference in char counts distrobution between classes."
      ]
    },
    {
      "cell_type": "code",
      "execution_count": 13,
      "metadata": {
        "colab": {
          "base_uri": "https://localhost:8080/",
          "height": 296
        },
        "id": "YdD1oCfR9Ygj",
        "outputId": "b9d77d89-b778-4977-ece3-fe7e4a78a57b"
      },
      "outputs": [
        {
          "data": {
            "text/plain": [
              "<matplotlib.axes._subplots.AxesSubplot at 0x7f3516c8a810>"
            ]
          },
          "execution_count": 13,
          "metadata": {
            "tags": []
          },
          "output_type": "execute_result"
        },
        {
          "data": {
            "image/png": "[encoded data removed]",
            "text/plain": [
              "<Figure size 432x288 with 1 Axes>"
            ]
          },
          "metadata": {
            "needs_background": "light",
            "tags": []
          },
          "output_type": "display_data"
        }
      ],
      "source": [
        "sns.histplot(data=ds_stat, x='char_count', hue='label', bins=30)"
      ]
    },
    {
      "cell_type": "markdown",
      "metadata": {
        "id": "X67lb_UsL3Du"
      },
      "source": [
        "And whether the dataset is balanced."
      ]
    },
    {
      "cell_type": "code",
      "execution_count": 14,
      "metadata": {
        "colab": {
          "base_uri": "https://localhost:8080/",
          "height": 295
        },
        "id": "rwah7UnOdggd",
        "outputId": "5b8ada96-f229-428f-992e-cd6482c6f3e5"
      },
      "outputs": [
        {
          "data": {
            "text/plain": [
              "<matplotlib.axes._subplots.AxesSubplot at 0x7f3516c89550>"
            ]
          },
          "execution_count": 14,
          "metadata": {
            "tags": []
          },
          "output_type": "execute_result"
        },
        {
          "data": {
            "image/png": "[encoded data removed]",
            "text/plain": [
              "<Figure size 432x288 with 1 Axes>"
            ]
          },
          "metadata": {
            "needs_background": "light",
            "tags": []
          },
          "output_type": "display_data"
        }
      ],
      "source": [
        "sns.countplot(x='label', data=ds_stat)"
      ]
    },
    {
      "cell_type": "markdown",
      "metadata": {
        "id": "SzA5f3xvL9Oq"
      },
      "source": [
        "We also make a separate dictionary of frequencies for each of the classes."
      ]
    },
    {
      "cell_type": "code",
      "execution_count": 15,
      "metadata": {
        "id": "wt0WVvMYFpTN"
      },
      "outputs": [],
      "source": [
        "def make_freqs(df):\n",
        "  dicts = [{},{},{},{}]\n",
        "  for index, row in df[['description', 'label']].iterrows():\n",
        "    for word in row['description']:\n",
        "      if word in dicts[row['label']]:\n",
        "        dicts[row['label']][word] += 1\n",
        "      else:\n",
        "        dicts[row['label']][word] = 1\n",
        "  return dicts\n",
        "dicts = make_freqs(ds_stat)"
      ]
    },
    {
      "cell_type": "markdown",
      "metadata": {
        "id": "cVA39eFdMHvk"
      },
      "source": [
        "And we check the most occuring words per class."
      ]
    },
    {
      "cell_type": "code",
      "execution_count": 16,
      "metadata": {
        "id": "GUhugIStI17K"
      },
      "outputs": [],
      "source": [
        "top = [np.array(sorted(dic.items(), key=lambda item: item[1], reverse=True)[:10]) for dic in dicts]"
      ]
    },
    {
      "cell_type": "code",
      "execution_count": 17,
      "metadata": {
        "colab": {
          "base_uri": "https://localhost:8080/",
          "height": 824
        },
        "id": "k9EL4Lu6OK8h",
        "outputId": "b2248750-9f7f-49a4-f9b0-fb90d4669de2"
      },
      "outputs": [
        {
          "data": {
            "image/png": "[encoded data removed]",
            "text/plain": [
              "<Figure size 1296x1008 with 4 Axes>"
            ]
          },
          "metadata": {
            "needs_background": "light",
            "tags": []
          },
          "output_type": "display_data"
        }
      ],
      "source": [
        "fig, axs = plt.subplots(2, 2, figsize=(18, 14))  # Create the figure\n",
        "titles = ['World', 'Sports', 'Business', 'Sci/Tech']\n",
        "for i, ax in enumerate(axs.flatten()):\n",
        "  rects = ax.barh(range(10), top[i][:,1][::-1].astype(int),\n",
        "                    align='center',\n",
        "                    height=0.5,\n",
        "                    tick_label=top[i][:,0][::-1])\n",
        "  ax.set_title(titles[i])\n",
        "  ax.set_xlim((0, 8000))"
      ]
    },
    {
      "cell_type": "markdown",
      "metadata": {
        "id": "TuMXfmJ2S_Sc"
      },
      "source": [
        "There seem to be some overlap between Bussiness and Sci/Tech class for such a words as 'said', 'compani', 'new' or 'year'. This may influence performance of our model, especially for the Naive Bayes.  \n",
        "Finally, let's check the total size of our vocabulary."
      ]
    },
    {
      "cell_type": "code",
      "execution_count": 18,
      "metadata": {
        "colab": {
          "base_uri": "https://localhost:8080/"
        },
        "id": "czsvhK968PCH",
        "outputId": "383c8c16-0428-4786-b56d-2f3977cc7105"
      },
      "outputs": [
        {
          "name": "stdout",
          "output_type": "stream",
          "text": [
            "Number of unique words in vocabulary: 39238\n"
          ]
        }
      ],
      "source": [
        "    vocab = set([key for freqs in dicts for key in freqs.keys() ])\n",
        "    V = len(vocab)\n",
        "    print(\"Number of unique words in vocabulary: {}\".format(V))"
      ]
    },
    {
      "cell_type": "markdown",
      "metadata": {
        "id": "3GPKd16dTuhj"
      },
      "source": [
        "### Naive Bayes - training\n",
        "First, we try Naive Bayes classifier. It is a simple and yet often really effective model. We may treat it here as a baseline to other, more advanced approaches."
      ]
    },
    {
      "cell_type": "code",
      "execution_count": 19,
      "metadata": {
        "id": "eMsBOP4kYqjO"
      },
      "outputs": [],
      "source": [
        "def bayes_train(dicts, train_x, train_y):\n",
        "    '''\n",
        "    Input:\n",
        "        dics: list of freqs dictionaries describing how often the word appears\n",
        "              each dicts corresponds to a separate clas\n",
        "        train_x: a list of news\n",
        "        train_y: a list of labels correponding to the news\n",
        "    Output:\n",
        "        logprob: the log probabilitis of each word per class\n",
        "        logprobclass: the log prior probability of each class\n",
        "    '''\n",
        "    class_n = len(np.unique(ds_stat['label'].values))\n",
        "\n",
        "    # calculate V, the number of unique words in the vocabulary\n",
        "    vocab = set([key for freqs in dicts for key in freqs.keys() ])\n",
        "    V = len(vocab)\n",
        "\n",
        "    # calculate the number of words per class\n",
        "    N = [0]*class_n\n",
        "    for cl, freqs in enumerate(dicts):\n",
        "      for key in freqs.keys():\n",
        "        N[cl] += freqs[key]\n",
        "\n",
        "    # calculate D, the number of documents\n",
        "    D = len(train_x)\n",
        "    logprobclass = [0]*class_n\n",
        "    for cl in range(class_n):\n",
        "      logprobclass[cl] = np.log(np.sum(train_y==cl)/D)\n",
        "\n",
        "    logprob = [{} for _ in range(class_n)]\n",
        "    for word in vocab:\n",
        "        # get probability of word in the class\n",
        "        for cl in range(class_n):\n",
        "          freq = dicts[cl].get(word, 0)\n",
        "          p_w = (freq + 1.) / (N[cl] + V)\n",
        "          # calculate the log likelihood of the word\n",
        "          logprob[cl][word] = np.log(p_w)\n",
        "\n",
        "    return logprob, logprobclass"
      ]
    },
    {
      "cell_type": "code",
      "execution_count": 20,
      "metadata": {
        "id": "pGpJR5D8nUPK"
      },
      "outputs": [],
      "source": [
        "logprob, logprobclass = bayes_train(dicts, train_x, train_y)"
      ]
    },
    {
      "cell_type": "markdown",
      "metadata": {
        "id": "pRjZUVLiVI8x"
      },
      "source": [
        "### Naive Bayes - testing\n",
        "We create function to predict class for the unknown news and we run it on our test data."
      ]
    },
    {
      "cell_type": "code",
      "execution_count": 21,
      "metadata": {
        "id": "HujI66Xa5FNx"
      },
      "outputs": [],
      "source": [
        "def bayes_pred(text, logprob, logprobclass):\n",
        "    '''\n",
        "    Input:\n",
        "        text: a string\n",
        "        logprior: a number\n",
        "        loglikelihood: a dictionary of words mapping to numbers\n",
        "    Output:\n",
        "        argmax(p): label of class with the maximum probability\n",
        "\n",
        "    '''\n",
        "    class_n = len(logprobclass)\n",
        "    word_l = process_text(text)\n",
        "\n",
        "    p = [0]*class_n\n",
        "    for cl in range(class_n):\n",
        "      p[cl] += logprobclass[cl]\n",
        "\n",
        "      for word in word_l:\n",
        "          if word in logprob[cl]:\n",
        "              # add the log likelihood of that word to the probability\n",
        "              p[cl] += logprob[cl][word]\n",
        "    return np.argmax(p)"
      ]
    },
    {
      "cell_type": "code",
      "execution_count": 22,
      "metadata": {
        "id": "TMYpHtK0tMV6"
      },
      "outputs": [],
      "source": [
        "test_x, test_y = tfds.as_numpy(tfds.load(\n",
        "    'ag_news_subset',\n",
        "    split='test',\n",
        "    batch_size=-1,\n",
        "    as_supervised=True,\n",
        "))"
      ]
    },
    {
      "cell_type": "markdown",
      "metadata": {
        "id": "nTlD-MFQV3LK"
      },
      "source": [
        "For model testing we use scikit learn functions."
      ]
    },
    {
      "cell_type": "code",
      "execution_count": 23,
      "metadata": {
        "id": "4Or2HVhItk0v"
      },
      "outputs": [],
      "source": [
        "def get_metric(test_y, y_hats):\n",
        "    accuracy = accuracy_score(test_y, y_hats)\n",
        "    recall = recall_score(test_y, y_hats, average='macro')\n",
        "    precision = precision_score(test_y, y_hats, average='macro')\n",
        "    f1s = f1_score(test_y, y_hats, average='macro')\n",
        "    confusion = confusion_matrix(test_y, y_hats)\n",
        "    return accuracy, recall, precision, f1s, confusion"
      ]
    },
    {
      "cell_type": "code",
      "execution_count": 24,
      "metadata": {
        "id": "Q-8CaQvFuqXk"
      },
      "outputs": [],
      "source": [
        "y_hats = []\n",
        "# iterate over examples\n",
        "for text in test_x:\n",
        "  y_hats.append(bayes_pred(text, logprob, logprobclass))\n",
        "acc, rec, prec, f1s, conf = get_metric(test_y, y_hats)"
      ]
    },
    {
      "cell_type": "code",
      "execution_count": 25,
      "metadata": {
        "colab": {
          "base_uri": "https://localhost:8080/"
        },
        "id": "A9KLUyCvvGBX",
        "outputId": "17ac21d8-e3b9-4b41-b965-ffc35698d114"
      },
      "outputs": [
        {
          "name": "stdout",
          "output_type": "stream",
          "text": [
            "Accuracy: 0.8885526315789474, Recall: 0.8885526315789474, Precision: 0.88833903284449, F1-Score: 0.888349725302289.\n"
          ]
        }
      ],
      "source": [
        "print(\"Accuracy: {}, Recall: {}, Precision: {}, F1-Score: {}.\".format(acc, rec, prec, f1s))"
      ]
    },
    {
      "cell_type": "markdown",
      "metadata": {
        "id": "gb-F309dWSrG"
      },
      "source": [
        "Given that according to the rank on [paper with code](https://paperswithcode.com/sota/text-classification-on-ag-news) the accuracy of the best model so far is 95.55% our model yields really good results.  \n",
        "Let's further investigate the source of error. For that we will use confusion matrix."
      ]
    },
    {
      "cell_type": "code",
      "execution_count": 26,
      "metadata": {
        "colab": {
          "base_uri": "https://localhost:8080/",
          "height": 816
        },
        "id": "qwn_uAx04mWQ",
        "outputId": "3b83c406-cd91-4948-d7fd-5640582f3eb2"
      },
      "outputs": [
        {
          "data": {
            "text/plain": [
              "<Figure size 432x288 with 0 Axes>"
            ]
          },
          "metadata": {
            "tags": []
          },
          "output_type": "display_data"
        },
        {
          "data": {
            "image/png": "[encoded data removed]",
            "text/plain": [
              "<Figure size 1152x864 with 1 Axes>"
            ]
          },
          "metadata": {
            "needs_background": "light",
            "tags": []
          },
          "output_type": "display_data"
        },
        {
          "name": "stdout",
          "output_type": "stream",
          "text": [
            "Accuracy per class is\n",
            "World News: 0.89\n",
            "Sport News: 0.97\n",
            "Business News: 0.84\n",
            "Science-Technology News: 0.86\n"
          ]
        }
      ],
      "source": [
        "def plot_cm(cm):\n",
        "  labels = ['World News', 'Sport News', 'Business News', 'Science-Technology News']\n",
        "  plt.figure()\n",
        "  plot_confusion_matrix(cm, figsize=(16,12), hide_ticks=True, cmap=plt.cm.Blues)\n",
        "  plt.xticks(range(4), labels, fontsize=12)\n",
        "  plt.yticks(range(4), labels, fontsize=12)\n",
        "  plt.show()\n",
        "  class_acc = []\n",
        "  print(\"Accuracy per class is\")\n",
        "  for i, row in enumerate(conf):\n",
        "    print(\"{}: {:.2f}\".format(labels[i], row[i]/np.sum(row)))\n",
        "    \n",
        "plot_cm(conf)"
      ]
    },
    {
      "cell_type": "markdown",
      "metadata": {
        "id": "uBvN5ypDMSwK"
      },
      "source": [
        "Clearly the overlap in important words between classes Bussiness and Sci/Tech influences their accuracy. And for them the error is the highest. The easiest to classify are Sport news."
      ]
    },
    {
      "cell_type": "markdown",
      "metadata": {
        "id": "h8JQm1mRZGH9"
      },
      "source": [
        "### Recurrent neural networks - LSTMs\n",
        "Now let's try some more advanced methods. We will use artificial recurrent networks which are suitable solution for sequence problems. We will use LSTMs, since our sequence length can be almost 100 and the problem of vanishing gradient for that long sequence may occur. We will use tensorflow library since it has many built-in functions that will speed-up the model creation.\n",
        "### Import data\n",
        "We again start with importing of the dataset."
      ]
    },
    {
      "cell_type": "code",
      "execution_count": 27,
      "metadata": {
        "id": "Uj4u-ou3eg9Z"
      },
      "outputs": [],
      "source": [
        "train_desc, train_label = tfds.as_numpy(tfds.load(\n",
        "    'ag_news_subset',\n",
        "    split='train',\n",
        "    batch_size=-1,\n",
        "    as_supervised=True,\n",
        "))\n",
        "\n",
        "test_desc, test_label = tfds.as_numpy(tfds.load(\n",
        "    'ag_news_subset',\n",
        "    split='test',\n",
        "    batch_size=-1,\n",
        "    as_supervised=True,\n",
        "))"
      ]
    },
    {
      "cell_type": "markdown",
      "metadata": {
        "id": "ODlZFZ0daRnE"
      },
      "source": [
        "### Data preprocessing\n",
        "And we re-use the previous function to preprocess the raw text."
      ]
    },
    {
      "cell_type": "code",
      "execution_count": 28,
      "metadata": {
        "id": "wXp7geXBrF5Y"
      },
      "outputs": [],
      "source": [
        "train_desc_n = [process_text(rev) for rev in train_desc]\n",
        "test_desc_n = [process_text(rev) for rev in test_desc]"
      ]
    },
    {
      "cell_type": "markdown",
      "metadata": {
        "id": "CoyWbPyFaWa_"
      },
      "source": [
        "But this time we also join tokens back to string to apply TextVectorization on them."
      ]
    },
    {
      "cell_type": "code",
      "execution_count": 29,
      "metadata": {
        "id": "lTeIcwWBrVPs"
      },
      "outputs": [],
      "source": [
        "train_x = [\" \".join(row) for row in train_desc_n]\n",
        "train_y = tf.one_hot(train_label, depth=4)\n",
        "\n",
        "test_x = [\" \".join(row) for row in test_desc_n]\n",
        "test_y = test_label"
      ]
    },
    {
      "cell_type": "code",
      "execution_count": 30,
      "metadata": {
        "id": "WkucuNQWe1_a"
      },
      "outputs": [],
      "source": [
        "VOCAB_SIZE = 10000\n",
        "SEQUENCE_LENGTH = 100\n",
        "\n",
        "vectorize_layer = TextVectorization(\n",
        "    standardize=None,\n",
        "    max_tokens=VOCAB_SIZE,\n",
        "    output_mode='int',\n",
        "    output_sequence_length=SEQUENCE_LENGTH)\n",
        "\n",
        "vectorize_layer.adapt(train_x)"
      ]
    },
    {
      "cell_type": "code",
      "execution_count": 31,
      "metadata": {
        "id": "4ec174wg8d6z"
      },
      "outputs": [],
      "source": [
        "def vectorize_text(text, label):\n",
        "  text = tf.expand_dims(text, -1)\n",
        "  return vectorize_layer(text), label\n",
        "\n",
        "train_x_tens, train_y_tens = vectorize_text(train_x, train_y)"
      ]
    },
    {
      "cell_type": "markdown",
      "metadata": {
        "id": "UuTi8UU6akz9"
      },
      "source": [
        "We wrap out data back into tensorflow dataset."
      ]
    },
    {
      "cell_type": "code",
      "execution_count": 32,
      "metadata": {
        "id": "yzaVCV6I_hZ1"
      },
      "outputs": [],
      "source": [
        "BATCH_SIZE = 64\n",
        "SHUFFLE_BUFFER_SIZE = 100\n",
        "\n",
        "train_dataset = tf.data.Dataset.from_tensor_slices((train_x_tens, train_y_tens))\n",
        "train_dataset = train_dataset.shuffle(SHUFFLE_BUFFER_SIZE).batch(BATCH_SIZE)"
      ]
    },
    {
      "cell_type": "markdown",
      "metadata": {
        "id": "tzk4lP2fayvk"
      },
      "source": [
        "### RNN with LSTMs - training\n",
        "We build our model using two Bidirectional LSTM layers, making so-called deep recurrent neural network. It is connected to MaxPooling layer to generalize data and to prevent overfitting. Next, we connect it to searies of Dense hidden layers with drop-out in between. In front of it we use embedding layer which will transform our vectorized tokens into vector embeddings."
      ]
    },
    {
      "cell_type": "code",
      "execution_count": 33,
      "metadata": {
        "colab": {
          "base_uri": "https://localhost:8080/"
        },
        "id": "q6x-80zP9vaj",
        "outputId": "197b688b-a9f4-43b6-977c-a4996a667397"
      },
      "outputs": [
        {
          "name": "stdout",
          "output_type": "stream",
          "text": [
            "Model: \"sequential_1\"\n",
            "_________________________________________________________________\n",
            "Layer (type)                 Output Shape              Param #   \n",
            "=================================================================\n",
            "embedding_1 (Embedding)      (None, 100, 100)          1000000   \n",
            "_________________________________________________________________\n",
            "bidirectional_2 (Bidirection (None, 100, 256)          234496    \n",
            "_________________________________________________________________\n",
            "bidirectional_3 (Bidirection (None, 100, 128)          164352    \n",
            "_________________________________________________________________\n",
            "global_max_pooling1d_1 (Glob (None, 128)               0         \n",
            "_________________________________________________________________\n",
            "dense_6 (Dense)              (None, 1024)              132096    \n",
            "_________________________________________________________________\n",
            "dropout_5 (Dropout)          (None, 1024)              0         \n",
            "_________________________________________________________________\n",
            "dense_7 (Dense)              (None, 512)               524800    \n",
            "_________________________________________________________________\n",
            "dropout_6 (Dropout)          (None, 512)               0         \n",
            "_________________________________________________________________\n",
            "dense_8 (Dense)              (None, 256)               131328    \n",
            "_________________________________________________________________\n",
            "dropout_7 (Dropout)          (None, 256)               0         \n",
            "_________________________________________________________________\n",
            "dense_9 (Dense)              (None, 128)               32896     \n",
            "_________________________________________________________________\n",
            "dropout_8 (Dropout)          (None, 128)               0         \n",
            "_________________________________________________________________\n",
            "dense_10 (Dense)             (None, 64)                8256      \n",
            "_________________________________________________________________\n",
            "dropout_9 (Dropout)          (None, 64)                0         \n",
            "_________________________________________________________________\n",
            "dense_11 (Dense)             (None, 4)                 260       \n",
            "=================================================================\n",
            "Total params: 2,228,484\n",
            "Trainable params: 2,228,484\n",
            "Non-trainable params: 0\n",
            "_________________________________________________________________\n"
          ]
        }
      ],
      "source": [
        "EMBED_SIZE = 100\n",
        "model = Sequential()\n",
        "model.add(Embedding(vocab_size, EMBED_SIZE, input_length=SEQUENCE_LENGTH))\n",
        "model.add(Bidirectional(LSTM(128, return_sequences=True))) \n",
        "model.add(Bidirectional(LSTM(64, return_sequences=True)))\n",
        "model.add(GlobalMaxPooling1D())\n",
        "model.add(Dense(1024))\n",
        "model.add(Dropout(0.25))\n",
        "model.add(Dense(512))\n",
        "model.add(Dropout(0.25))\n",
        "model.add(Dense(256))\n",
        "model.add(Dropout(0.25))\n",
        "model.add(Dense(128))\n",
        "model.add(Dropout(0.25))\n",
        "model.add(Dense(64))\n",
        "model.add(Dropout(0.25))\n",
        "model.add(Dense(4, activation='softmax'))\n",
        "model.summary()"
      ]
    },
    {
      "cell_type": "markdown",
      "metadata": {
        "id": "qISDvHLdbYnq"
      },
      "source": [
        "We define EarlyStopping method based on validation accuracy and ModelCheckpoint to save out model."
      ]
    },
    {
      "cell_type": "code",
      "execution_count": 34,
      "metadata": {
        "id": "A6NktiStAU63"
      },
      "outputs": [],
      "source": [
        "from tensorflow.keras.callbacks import ModelCheckpoint, EarlyStopping\n",
        "callbacks = [\n",
        "    EarlyStopping(   \n",
        "        monitor='val_accuracy',\n",
        "        min_delta=1e-4,\n",
        "        patience=4,\n",
        "        verbose=1\n",
        "    ),\n",
        "    ModelCheckpoint(\n",
        "        filepath='weights.h5',\n",
        "        monitor='val_accuracy', \n",
        "        mode='max', \n",
        "        save_best_only=True,\n",
        "        save_weights_only=True,\n",
        "        verbose=1\n",
        "    )\n",
        "]"
      ]
    },
    {
      "cell_type": "code",
      "execution_count": 35,
      "metadata": {
        "id": "l3uHTeDQBKzx"
      },
      "outputs": [],
      "source": [
        "train_x_tens, train_y_tens = vectorize_text(train_x, train_y)\n",
        "test_x_tens, test_y_tens = vectorize_text(test_x, test_y)"
      ]
    },
    {
      "cell_type": "markdown",
      "metadata": {
        "id": "AbbRjWmGbj5e"
      },
      "source": [
        "We compile it with ADAM optimizer with default hyperparameters. We use categorical cross entropy since our labels are one-hot encoded and we train the model for 20 epochs."
      ]
    },
    {
      "cell_type": "code",
      "execution_count": 36,
      "metadata": {
        "colab": {
          "base_uri": "https://localhost:8080/"
        },
        "id": "Ihs_qRVqAfDI",
        "outputId": "517d17db-b6c1-4001-ff6f-d9ebcad78e71"
      },
      "outputs": [
        {
          "name": "stdout",
          "output_type": "stream",
          "text": [
            "Epoch 1/20\n",
            "469/469 [==============================] - 34s 62ms/step - loss: 0.5793 - accuracy: 0.7710 - val_loss: 0.3079 - val_accuracy: 0.8946\n",
            "\n",
            "Epoch 00001: val_accuracy improved from -inf to 0.89461, saving model to weights.h5\n",
            "Epoch 2/20\n",
            "469/469 [==============================] - 28s 60ms/step - loss: 0.2570 - accuracy: 0.9164 - val_loss: 0.2779 - val_accuracy: 0.9071\n",
            "\n",
            "Epoch 00002: val_accuracy improved from 0.89461 to 0.90711, saving model to weights.h5\n",
            "Epoch 3/20\n",
            "469/469 [==============================] - 28s 59ms/step - loss: 0.2011 - accuracy: 0.9323 - val_loss: 0.3211 - val_accuracy: 0.9025\n",
            "\n",
            "Epoch 00003: val_accuracy did not improve from 0.90711\n",
            "Epoch 4/20\n",
            "469/469 [==============================] - 28s 59ms/step - loss: 0.1596 - accuracy: 0.9449 - val_loss: 0.3199 - val_accuracy: 0.8974\n",
            "\n",
            "Epoch 00004: val_accuracy did not improve from 0.90711\n",
            "Epoch 5/20\n",
            "469/469 [==============================] - 28s 59ms/step - loss: 0.1283 - accuracy: 0.9549 - val_loss: 0.3325 - val_accuracy: 0.8966\n",
            "\n",
            "Epoch 00005: val_accuracy did not improve from 0.90711\n",
            "Epoch 6/20\n",
            "469/469 [==============================] - 28s 59ms/step - loss: 0.1028 - accuracy: 0.9642 - val_loss: 0.4089 - val_accuracy: 0.8955\n",
            "\n",
            "Epoch 00006: val_accuracy did not improve from 0.90711\n",
            "Epoch 00006: early stopping\n"
          ]
        },
        {
          "data": {
            "text/plain": [
              "<tensorflow.python.keras.callbacks.History at 0x7f3509914b50>"
            ]
          },
          "execution_count": 36,
          "metadata": {
            "tags": []
          },
          "output_type": "execute_result"
        }
      ],
      "source": [
        "model.compile(loss='categorical_crossentropy',\n",
        "              optimizer='adam', \n",
        "              metrics=['accuracy']) \n",
        "\n",
        "model.fit(train_x_tens, \n",
        "          train_y_tens, \n",
        "          batch_size=256, \n",
        "          validation_data=(test_x_tens, test_y_tens), \n",
        "          epochs=20, \n",
        "          callbacks=callbacks)"
      ]
    },
    {
      "cell_type": "markdown",
      "metadata": {
        "id": "zIaq2Tqhbwlh"
      },
      "source": [
        "Mddel really ruickly finds the optimum and accuracy has improved by almost 2% when compared to Naive Bayes approach.\n",
        "### RNN with LSTMs - testing\n"
      ]
    },
    {
      "cell_type": "code",
      "execution_count": 37,
      "metadata": {
        "colab": {
          "base_uri": "https://localhost:8080/"
        },
        "id": "ZN_30C6JcdLf",
        "outputId": "c2f37db8-7306-4b23-9955-1a7dc7553988"
      },
      "outputs": [
        {
          "name": "stdout",
          "output_type": "stream",
          "text": [
            "Accuracy: 0.8955263157894737, Recall: 0.8955263157894736, Precision: 0.8962510496922456, F1-Score: 0.8958084001171104.\n"
          ]
        }
      ],
      "source": [
        "y_hats = np.argmax(model.predict(test_x_tens), axis=1)\n",
        "acc, rec, prec, f1s, conf = get_metric(test_y, y_hats)\n",
        "print(\"Accuracy: {}, Recall: {}, Precision: {}, F1-Score: {}.\".format(acc, rec, prec, f1s))"
      ]
    },
    {
      "cell_type": "code",
      "execution_count": 38,
      "metadata": {
        "colab": {
          "base_uri": "https://localhost:8080/",
          "height": 816
        },
        "id": "RIVdXp4lfMVM",
        "outputId": "66ac79c1-9fd7-4958-b245-b42e1fd53c69"
      },
      "outputs": [
        {
          "data": {
            "text/plain": [
              "<Figure size 432x288 with 0 Axes>"
            ]
          },
          "metadata": {
            "tags": []
          },
          "output_type": "display_data"
        },
        {
          "data": {
            "image/png": "[encoded data removed]",
            "text/plain": [
              "<Figure size 1152x864 with 1 Axes>"
            ]
          },
          "metadata": {
            "needs_background": "light",
            "tags": []
          },
          "output_type": "display_data"
        },
        {
          "name": "stdout",
          "output_type": "stream",
          "text": [
            "Accuracy per class is\n",
            "World News: 0.90\n",
            "Sport News: 0.95\n",
            "Business News: 0.85\n",
            "Science-Technology News: 0.87\n"
          ]
        }
      ],
      "source": [
        "plot_cm(conf)"
      ]
    },
    {
      "cell_type": "markdown",
      "metadata": {
        "id": "k9spWLPGfPCN"
      },
      "source": [
        "The same trend of mixing Business with Science-Technology can be observed but this time the accuracy between classes is slightly better balanced.\n",
        "### RNN with LSTMs and transfer learning\n",
        "As a final step we try the same model architecture but this time we use pretrained vector embeddings. For that GloVe data will be used.\n",
        "### Data preprocessing\n",
        "This time we will used different function for data preprocessing that mimicks routines used by GloVe algorithm. We do it because we want to apply the same word->vector map as the creators of GloVe."
      ]
    },
    {
      "cell_type": "code",
      "execution_count": 39,
      "metadata": {
        "id": "J3lVw11HC2MQ"
      },
      "outputs": [],
      "source": [
        "FLAGS = re.MULTILINE | re.DOTALL\n",
        "\n",
        "def hashtag(text):\n",
        "  text = text.group()\n",
        "  hashtag_body = text[1:]\n",
        "  if hashtag_body.isupper():\n",
        "      result = \"<hashtag> {} <allcaps>\".format(hashtag_body)\n",
        "  else:\n",
        "      result = \" \".join([\"<hashtag>\"] + re.split(r\"(?=[A-Z])\", hashtag_body, flags=FLAGS))\n",
        "  return result\n",
        "\n",
        "def allcaps(text):\n",
        "  text = text.group()\n",
        "  return text.lower() + \" <allcaps>\"\n",
        "\n",
        "\n",
        "def tokenize(text, decode=True):\n",
        "  # Different regex parts for smiley faces\n",
        "  eyes = r\"[8:=;]\"\n",
        "  nose = r\"['`\\-]?\"\n",
        "\n",
        "  # decode\n",
        "  if decode:\n",
        "    text = text.decode('ascii')\n",
        "  # unescape html\n",
        "  text = html.unescape(text)\n",
        "  # dict for wrongly read html signs\n",
        "  dictConv = {f' #{i};':chr(i) for i in range(255)}\n",
        "  dictConv.update({f' {i};':chr(i) for i in range(255)})\n",
        "  dictConv.update({f'0{i};':chr(i) for i in range(255)})\n",
        "  dictConv['quot;'] = '' \n",
        "  dictConv['amp;'] = '' \n",
        "  dictConv['nbsp;'] = '' \n",
        "  dictConv['gt;'] = '' \n",
        "  dictConv['lt;'] = ''   \n",
        "  dictConv[' 8217;'] = ''\n",
        "  for key in dictConv.keys():\n",
        "    text = text.replace(key, dictConv[key])\n",
        "\n",
        "  # function so code less repetitive\n",
        "  def re_sub(pattern, repl):\n",
        "      return re.sub(pattern, repl, text, flags=FLAGS)\n",
        "  text = re_sub(r\"https?:\\/\\/\\S+\\b|www\\.(\\w+\\.)+\\S*\", \"<url>\")\n",
        "  text = re_sub(r\"/\",\" / \")\n",
        "  text = re_sub(r\"@\\w+\", \"<user>\")\n",
        "  text = re_sub(r\"{}{}[)dD]+|[)dD]+{}{}\".format(eyes, nose, nose, eyes), \"<smile>\")\n",
        "  text = re_sub(r\"{}{}p+\".format(eyes, nose), \"<lolface>\")\n",
        "  text = re_sub(r\"{}{}\\(+|\\)+{}{}\".format(eyes, nose, nose, eyes), \"<sadface>\")\n",
        "  text = re_sub(r\"{}{}[\\/|l*]\".format(eyes, nose), \"<neutralface>\")\n",
        "  text = re_sub(r\"<3\",\"<heart>\")\n",
        "  text = re_sub(r\"[-+]?[.\\d]*[\\d]+[:,.\\d]*\", \"<number>\")\n",
        "  text = re_sub(r\"#\\S+\", hashtag)\n",
        "  text = re_sub(r\"([!?.]){2,}\", r\"\\1 <repeat>\")\n",
        "  text = re_sub(r\"\\b(\\S*?)(.)\\2{2,}\\b\", r\"\\1\\2 <elong>\")\n",
        "\n",
        "  # unicode leftovers\n",
        "  text = re.sub(r\"\\\\x[0-9]+\", ' ', str(text))\n",
        "  # clean some other mess\n",
        "  text = text.replace('\\\\', ' ')\n",
        "  text = text.replace(\"'s\", ' ')\n",
        "  text = text.replace(\"\\'\", \"'\")\n",
        "\n",
        "  return text.lower()"
      ]
    },
    {
      "cell_type": "markdown",
      "metadata": {
        "id": "w6e7UG-ig4UF"
      },
      "source": [
        "We load and preprocess the data."
      ]
    },
    {
      "cell_type": "code",
      "execution_count": 40,
      "metadata": {
        "id": "nj6cXUgAmhIR"
      },
      "outputs": [],
      "source": [
        "train_desc, train_label = tfds.as_numpy(tfds.load(\n",
        "    'ag_news_subset',\n",
        "    split='train',\n",
        "    batch_size=-1,\n",
        "    as_supervised=True,\n",
        "))\n",
        "\n",
        "test_desc, test_label = tfds.as_numpy(tfds.load(\n",
        "    'ag_news_subset',\n",
        "    split='test',\n",
        "    batch_size=-1,\n",
        "    as_supervised=True,\n",
        "))"
      ]
    },
    {
      "cell_type": "code",
      "execution_count": 41,
      "metadata": {
        "id": "SNEbSyJ9HT6I"
      },
      "outputs": [],
      "source": [
        "train_x = [tokenize(rev) for rev in train_desc]\n",
        "train_y = tf.one_hot(train_label, depth=4)\n",
        "test_x = [tokenize(rev) for rev in test_desc]\n",
        "test_y =  tf.one_hot(test_label, depth=4)"
      ]
    },
    {
      "cell_type": "markdown",
      "metadata": {
        "id": "V_r1EFR2jk7X"
      },
      "source": [
        "Let's see how the preprocessed data looks like."
      ]
    },
    {
      "cell_type": "code",
      "execution_count": 42,
      "metadata": {
        "colab": {
          "base_uri": "https://localhost:8080/"
        },
        "id": "VzWGlSWuJMP9",
        "outputId": "9e71bc2a-5afc-49e5-c760-2c5ff125e90d"
      },
      "outputs": [
        {
          "data": {
            "text/plain": [
              "['amd  new dual-core opteron chip is designed mainly for corporate computing applications, including databases, web services, and financial transactions.',\n",
              " 'reuters - major league baseball monday announced a decision on the appeal filed by chicago cubs pitcher kerry wood regarding a suspension stemming from an incident earlier this season.',\n",
              " \"president bush   revenue-neutral  tax reform needs losers to balance its winners, and people claiming the federal deduction for state and local taxes may be in administration planners' sights, news reports say.\",\n",
              " 'britain will run out of leading scientists unless science education is improved, says professor colin pillinger.',\n",
              " 'london, england (sports network) - england midfielder steven gerrard injured his groin late in thursday  training session, but is hopeful he will be ready for saturday  world cup qualifier against austria.',\n",
              " 'tokyo - sony corp. is banking on the  $<number> billion deal to acquire hollywood studio metro-goldwyn-mayer inc. <repeat>',\n",
              " 'giant pandas may well prefer bamboo to laptops, but wireless technology is helping researchers in china in their efforts to protect the engandered animals living in the remote wolong nature reserve.',\n",
              " 'vilnius, lithuania - lithuania  main parties formed an alliance to try to keep a russian-born tycoon and his populist promises out of the government in sunday  second round of parliamentary elections in this baltic country.',\n",
              " 'witnesses in the trial of a us soldier charged with abusing prisoners at abu ghraib have told the court that the cia sometimes directed abuse and orders were received from military command to toughen interrogations.',\n",
              " 'dan olsen of ponte vedra beach, fla., shot a <number>-under <number> thursday to take a one-shot lead after two rounds of the pga tour qualifying tournament.']"
            ]
          },
          "execution_count": 42,
          "metadata": {
            "tags": []
          },
          "output_type": "execute_result"
        }
      ],
      "source": [
        "train_x[:10]"
      ]
    },
    {
      "cell_type": "markdown",
      "metadata": {
        "id": "zr4462kPjy5T"
      },
      "source": [
        "Again text vectorization will be used."
      ]
    },
    {
      "cell_type": "code",
      "execution_count": 43,
      "metadata": {
        "id": "y-zdcF5xxeI1"
      },
      "outputs": [],
      "source": [
        "vectorizer = TextVectorization(max_tokens=20000, output_sequence_length=100)\n",
        "vectorizer.adapt(train_x)\n",
        "\n",
        "def vectorize_text(text, label):\n",
        "  text = tf.expand_dims(text, -1)\n",
        "  return vectorizer(text), label\n",
        "\n",
        "train_x_tens, train_y_tens = vectorize_text(train_x, train_y)"
      ]
    },
    {
      "cell_type": "code",
      "execution_count": 44,
      "metadata": {
        "id": "lWnKPCvLxSYl"
      },
      "outputs": [],
      "source": [
        "train_x_tens, train_y_tens = vectorize_text(train_x, train_y)\n",
        "test_x_tens, test_y_tens = vectorize_text(test_x, test_y)"
      ]
    },
    {
      "cell_type": "markdown",
      "metadata": {
        "id": "aTDlq-uhj6BT"
      },
      "source": [
        "Let's see the first five tokens."
      ]
    },
    {
      "cell_type": "code",
      "execution_count": 45,
      "metadata": {
        "colab": {
          "base_uri": "https://localhost:8080/"
        },
        "id": "yS2QaYWWu5Hh",
        "outputId": "02c6fcf5-2c94-44e7-fe0f-0618328fdaea"
      },
      "outputs": [
        {
          "data": {
            "text/plain": [
              "['', '[UNK]', 'the', 'a', 'to']"
            ]
          },
          "execution_count": 45,
          "metadata": {
            "tags": []
          },
          "output_type": "execute_result"
        }
      ],
      "source": [
        "vectorizer.get_vocabulary()[:5]"
      ]
    },
    {
      "cell_type": "markdown",
      "metadata": {
        "id": "tiEDHreckAUX"
      },
      "source": [
        "And how a tokenized sentence looks like."
      ]
    },
    {
      "cell_type": "code",
      "execution_count": 46,
      "metadata": {
        "colab": {
          "base_uri": "https://localhost:8080/"
        },
        "id": "RdDAXu9vu8lq",
        "outputId": "3468e8b2-4163-4928-aeb0-87b5ec2135b9"
      },
      "outputs": [
        {
          "data": {
            "text/plain": [
              "array([ 66, 748,   4, 222,   0,   0])"
            ]
          },
          "execution_count": 46,
          "metadata": {
            "tags": []
          },
          "output_type": "execute_result"
        }
      ],
      "source": [
        "output = vectorizer([[\"President went to space.\"]])\n",
        "output.numpy()[0, :6]"
      ]
    },
    {
      "cell_type": "markdown",
      "metadata": {
        "id": "wjMRtbLekNrg"
      },
      "source": [
        "We create dictionary that maps words from vocabulary to a unique index."
      ]
    },
    {
      "cell_type": "code",
      "execution_count": 47,
      "metadata": {
        "id": "by5QaH3UwDbU"
      },
      "outputs": [],
      "source": [
        "voc = vectorizer.get_vocabulary()\n",
        "word_index = dict(zip(voc, range(len(voc))))"
      ]
    },
    {
      "cell_type": "markdown",
      "metadata": {
        "id": "wgVVPqf9vH1K"
      },
      "source": [
        "### Transfer learning\n",
        "As mentioned we will use pretrained word embeddings. For that we download GloVe data from stanford website."
      ]
    },
    {
      "cell_type": "code",
      "execution_count": 48,
      "metadata": {
        "colab": {
          "base_uri": "https://localhost:8080/"
        },
        "id": "0sqFcDMjvGi8",
        "outputId": "a48d4b6d-17c1-4410-a0ca-4fca2adb321e"
      },
      "outputs": [
        {
          "name": "stdout",
          "output_type": "stream",
          "text": [
            "--2021-04-28 17:46:36--  http://nlp.stanford.edu/data/glove.6B.zip\n",
            "Resolving nlp.stanford.edu (nlp.stanford.edu)... 171.64.67.140\n",
            "Connecting to nlp.stanford.edu (nlp.stanford.edu)|171.64.67.140|:80... connected.\n",
            "HTTP request sent, awaiting response... 302 Found\n",
            "Location: https://nlp.stanford.edu/data/glove.6B.zip [following]\n",
            "--2021-04-28 17:46:36--  https://nlp.stanford.edu/data/glove.6B.zip\n",
            "Connecting to nlp.stanford.edu (nlp.stanford.edu)|171.64.67.140|:443... connected.\n",
            "HTTP request sent, awaiting response... 301 Moved Permanently\n",
            "Location: http://downloads.cs.stanford.edu/nlp/data/glove.6B.zip [following]\n",
            "--2021-04-28 17:46:36--  http://downloads.cs.stanford.edu/nlp/data/glove.6B.zip\n",
            "Resolving downloads.cs.stanford.edu (downloads.cs.stanford.edu)... 171.64.64.22\n",
            "Connecting to downloads.cs.stanford.edu (downloads.cs.stanford.edu)|171.64.64.22|:80... connected.\n",
            "HTTP request sent, awaiting response... 200 OK\n",
            "Length: 862182613 (822M) [application/zip]\n",
            "Saving to: ‘glove.6B.zip.1’\n",
            "\n",
            "glove.6B.zip.1      100%[===================>] 822.24M  5.03MB/s    in 2m 40s  \n",
            "\n",
            "2021-04-28 17:49:16 (5.15 MB/s) - ‘glove.6B.zip.1’ saved [862182613/862182613]\n",
            "\n",
            "replace glove.6B.50d.txt? [y]es, [n]o, [A]ll, [N]one, [r]ename: A\n"
          ]
        }
      ],
      "source": [
        "!wget http://nlp.stanford.edu/data/glove.6B.zip\n",
        "!unzip -q glove.6B.zip"
      ]
    },
    {
      "cell_type": "markdown",
      "metadata": {
        "id": "U3DaCgb4kte9"
      },
      "source": [
        "We load the word embeddings."
      ]
    },
    {
      "cell_type": "code",
      "execution_count": 49,
      "metadata": {
        "colab": {
          "base_uri": "https://localhost:8080/"
        },
        "id": "exNQ5_hBvOF0",
        "outputId": "00b3bfe5-6d93-4298-a906-842e0bf77219"
      },
      "outputs": [
        {
          "name": "stdout",
          "output_type": "stream",
          "text": [
            "Found 400000 word vectors.\n"
          ]
        }
      ],
      "source": [
        "embeddings_index = {}\n",
        "with open('glove.6B.100d.txt') as f:\n",
        "    for line in f:\n",
        "        word, coefs = line.split(maxsplit=1)\n",
        "        coefs = np.fromstring(coefs, \"f\", sep=\" \")\n",
        "        embeddings_index[word] = coefs\n",
        "\n",
        "print(\"Found %s word vectors.\" % len(embeddings_index))"
      ]
    },
    {
      "cell_type": "markdown",
      "metadata": {
        "id": "VObUE6ZBkxLU"
      },
      "source": [
        "And we create embedding matrix that maps words from our vocabulary to corresponding pretrained vector."
      ]
    },
    {
      "cell_type": "code",
      "execution_count": 50,
      "metadata": {
        "colab": {
          "base_uri": "https://localhost:8080/"
        },
        "id": "fud6_cGPwNhW",
        "outputId": "c73f64ae-c2f5-43f2-f224-d8558c3294d0"
      },
      "outputs": [
        {
          "name": "stdout",
          "output_type": "stream",
          "text": [
            "Converted 18673 words (1327 misses)\n"
          ]
        }
      ],
      "source": [
        "num_tokens = len(voc) + 2\n",
        "embedding_dim = 100\n",
        "hits = 0\n",
        "misses = 0\n",
        "\n",
        "# Prepare embedding matrix\n",
        "embedding_matrix = np.zeros((num_tokens, embedding_dim))\n",
        "for word, i in word_index.items():\n",
        "    embedding_vector = embeddings_index.get(word)\n",
        "    if embedding_vector is not None:\n",
        "        # Words not found in embedding index will be all-zeros.\n",
        "        # This includes the representation for \"padding\" and \"OOV\"\n",
        "        embedding_matrix[i] = embedding_vector\n",
        "        hits += 1\n",
        "    else:\n",
        "        misses += 1\n",
        "print(\"Converted %d words (%d misses)\" % (hits, misses))"
      ]
    },
    {
      "cell_type": "markdown",
      "metadata": {
        "id": "y9sNkmiNk-V_"
      },
      "source": [
        "### RNN with LSTMs and transfer learning - training\n",
        "Again we define the same model architecture but this time with a fixed embedding layer."
      ]
    },
    {
      "cell_type": "code",
      "execution_count": 51,
      "metadata": {
        "id": "NYzDsJ3AwUAl"
      },
      "outputs": [],
      "source": [
        "embedding_layer = Embedding(\n",
        "    num_tokens,\n",
        "    embedding_dim,\n",
        "    embeddings_initializer=tf.keras.initializers.Constant(embedding_matrix),\n",
        "    trainable=False,\n",
        ")"
      ]
    },
    {
      "cell_type": "code",
      "execution_count": 52,
      "metadata": {
        "colab": {
          "base_uri": "https://localhost:8080/"
        },
        "id": "OOdfYtTfwbYu",
        "outputId": "6a93b9b6-42ae-41dc-e64a-6865136877e2"
      },
      "outputs": [
        {
          "name": "stdout",
          "output_type": "stream",
          "text": [
            "Model: \"sequential_2\"\n",
            "_________________________________________________________________\n",
            "Layer (type)                 Output Shape              Param #   \n",
            "=================================================================\n",
            "embedding_2 (Embedding)      (None, None, 100)         2000200   \n",
            "_________________________________________________________________\n",
            "bidirectional_4 (Bidirection (None, None, 256)         234496    \n",
            "_________________________________________________________________\n",
            "bidirectional_5 (Bidirection (None, None, 128)         164352    \n",
            "_________________________________________________________________\n",
            "global_max_pooling1d_2 (Glob (None, 128)               0         \n",
            "_________________________________________________________________\n",
            "dense_12 (Dense)             (None, 1024)              132096    \n",
            "_________________________________________________________________\n",
            "dropout_10 (Dropout)         (None, 1024)              0         \n",
            "_________________________________________________________________\n",
            "dense_13 (Dense)             (None, 512)               524800    \n",
            "_________________________________________________________________\n",
            "dropout_11 (Dropout)         (None, 512)               0         \n",
            "_________________________________________________________________\n",
            "dense_14 (Dense)             (None, 256)               131328    \n",
            "_________________________________________________________________\n",
            "dropout_12 (Dropout)         (None, 256)               0         \n",
            "_________________________________________________________________\n",
            "dense_15 (Dense)             (None, 128)               32896     \n",
            "_________________________________________________________________\n",
            "dropout_13 (Dropout)         (None, 128)               0         \n",
            "_________________________________________________________________\n",
            "dense_16 (Dense)             (None, 64)                8256      \n",
            "_________________________________________________________________\n",
            "dropout_14 (Dropout)         (None, 64)                0         \n",
            "_________________________________________________________________\n",
            "dense_17 (Dense)             (None, 4)                 260       \n",
            "=================================================================\n",
            "Total params: 3,228,684\n",
            "Trainable params: 1,228,484\n",
            "Non-trainable params: 2,000,200\n",
            "_________________________________________________________________\n"
          ]
        }
      ],
      "source": [
        "embed_size = 100\n",
        "model = Sequential()\n",
        "model.add(embedding_layer)\n",
        "model.add(Bidirectional(LSTM(128, return_sequences=True))) \n",
        "model.add(Bidirectional(LSTM(64, return_sequences=True)))\n",
        "model.add(GlobalMaxPooling1D())\n",
        "model.add(Dropout(0.25))\n",
        "model.add(Dense(512))\n",
        "model.add(Dropout(0.25))\n",
        "model.add(Dense(256))\n",
        "model.add(Dropout(0.25))\n",
        "model.add(Dense(128))\n",
        "model.add(Dropout(0.25))\n",
        "model.add(Dense(64))\n",
        "model.add(Dropout(0.25))\n",
        "model.add(Dense(4, activation='softmax'))A\n",
        "A\n",
        "model.summary()"
      ]
    },
    {
      "cell_type": "code",
      "execution_count": 53,
      "metadata": {
        "id": "i6mEygvOwtBI"
      },
      "outputs": [],
      "source": [
        "callbacks = [\n",
        "    EarlyStopping(\n",
        "        monitor='val_accuracy',\n",
        "        min_delta=1e-4,\n",
        "        patience=4,\n",
        "        verbose=1\n",
        "    ),\n",
        "    ModelCheckpoint(\n",
        "        filepath='weights.h5',\n",
        "        monitor='val_accuracy', \n",
        "        mode='max', \n",
        "        save_best_only=True,\n",
        "        save_weights_only=True,\n",
        "        verbose=1\n",
        "    )\n",
        "]"
      ]
    },
    {
      "cell_type": "code",
      "execution_count": 54,
      "metadata": {
        "colab": {
          "base_uri": "https://localhost:8080/"
        },
        "id": "zmQ30IaswwPd",
        "outputId": "cfe24766-eb9d-4d67-d4ed-3c04c2b517eb"
      },
      "outputs": [
        {
          "name": "stdout",
          "output_type": "stream",
          "text": [
            "Epoch 1/20\n",
            "469/469 [==============================] - 29s 50ms/step - loss: 0.4743 - accuracy: 0.8305 - val_loss: 0.2947 - val_accuracy: 0.8925\n",
            "\n",
            "Epoch 00001: val_accuracy improved from -inf to 0.89250, saving model to weights.h5\n",
            "Epoch 2/20\n",
            "469/469 [==============================] - 22s 47ms/step - loss: 0.2882 - accuracy: 0.9008 - val_loss: 0.2757 - val_accuracy: 0.9009\n",
            "\n",
            "Epoch 00002: val_accuracy improved from 0.89250 to 0.90092, saving model to weights.h5\n",
            "Epoch 3/20\n",
            "469/469 [==============================] - 22s 47ms/step - loss: 0.2570 - accuracy: 0.9105 - val_loss: 0.2666 - val_accuracy: 0.9086\n",
            "\n",
            "Epoch 00003: val_accuracy improved from 0.90092 to 0.90855, saving model to weights.h5\n",
            "Epoch 4/20\n",
            "469/469 [==============================] - 22s 47ms/step - loss: 0.2337 - accuracy: 0.9190 - val_loss: 0.2597 - val_accuracy: 0.9083\n",
            "\n",
            "Epoch 00004: val_accuracy did not improve from 0.90855\n",
            "Epoch 5/20\n",
            "469/469 [==============================] - 22s 47ms/step - loss: 0.2120 - accuracy: 0.9272 - val_loss: 0.2588 - val_accuracy: 0.9087\n",
            "\n",
            "Epoch 00005: val_accuracy improved from 0.90855 to 0.90868, saving model to weights.h5\n",
            "Epoch 6/20\n",
            "469/469 [==============================] - 22s 47ms/step - loss: 0.1939 - accuracy: 0.9323 - val_loss: 0.2437 - val_accuracy: 0.9159\n",
            "\n",
            "Epoch 00006: val_accuracy improved from 0.90868 to 0.91592, saving model to weights.h5\n",
            "Epoch 7/20\n",
            "469/469 [==============================] - 22s 47ms/step - loss: 0.1756 - accuracy: 0.9384 - val_loss: 0.2493 - val_accuracy: 0.9149\n",
            "\n",
            "Epoch 00007: val_accuracy did not improve from 0.91592\n",
            "Epoch 8/20\n",
            "469/469 [==============================] - 22s 47ms/step - loss: 0.1645 - accuracy: 0.9427 - val_loss: 0.2767 - val_accuracy: 0.9088\n",
            "\n",
            "Epoch 00008: val_accuracy did not improve from 0.91592\n",
            "Epoch 9/20\n",
            "469/469 [==============================] - 22s 47ms/step - loss: 0.1409 - accuracy: 0.9501 - val_loss: 0.2801 - val_accuracy: 0.9145\n",
            "\n",
            "Epoch 00009: val_accuracy did not improve from 0.91592\n",
            "Epoch 10/20\n",
            "469/469 [==============================] - 22s 47ms/step - loss: 0.1248 - accuracy: 0.9553 - val_loss: 0.2975 - val_accuracy: 0.9124\n",
            "\n",
            "Epoch 00010: val_accuracy did not improve from 0.91592\n",
            "Epoch 00010: early stopping\n"
          ]
        },
        {
          "data": {
            "text/plain": [
              "<tensorflow.python.keras.callbacks.History at 0x7f3445e181d0>"
            ]
          },
          "execution_count": 54,
          "metadata": {
            "tags": []
          },
          "output_type": "execute_result"
        }
      ],
      "source": [
        "model.compile(loss='categorical_crossentropy',\n",
        "              optimizer='adam', \n",
        "              metrics=['accuracy']) \n",
        "\n",
        "model.fit(train_x_tens, \n",
        "          train_y_tens, \n",
        "          batch_size=256, \n",
        "          validation_data=(test_x_tens, test_y_tens), \n",
        "          epochs=20, \n",
        "          callbacks=callbacks)"
      ]
    },
    {
      "cell_type": "markdown",
      "metadata": {
        "id": "kePZ1z9uuLEQ"
      },
      "source": [
        "91.5% is a satisfying result given that the achieved score is 95.5% and that we are here using a relatively simple neural network. Next, we further check accuracy of our model."
      ]
    },
    {
      "cell_type": "code",
      "execution_count": 55,
      "metadata": {
        "colab": {
          "base_uri": "https://localhost:8080/"
        },
        "id": "hwwO4cCPuubt",
        "outputId": "850af627-9380-4d65-a935-470a6f2181f8"
      },
      "outputs": [
        {
          "name": "stdout",
          "output_type": "stream",
          "text": [
            "Accuracy: 0.9123684210526316, Recall: 0.9123684210526316, Precision: 0.9132504987599803, F1-Score: 0.9124081881010238.\n"
          ]
        }
      ],
      "source": [
        "y_hats = np.argmax(model.predict(test_x_tens), axis=1)\n",
        "acc, rec, prec, f1s, conf = get_metric(test_label, y_hats)\n",
        "print(\"Accuracy: {}, Recall: {}, Precision: {}, F1-Score: {}.\".format(acc, rec, prec, f1s))"
      ]
    },
    {
      "cell_type": "code",
      "execution_count": 56,
      "metadata": {
        "colab": {
          "base_uri": "https://localhost:8080/",
          "height": 816
        },
        "id": "LLigEc3VvQKZ",
        "outputId": "b1016034-4588-48e6-fde7-55c160d00dee"
      },
      "outputs": [
        {
          "data": {
            "text/plain": [
              "<Figure size 432x288 with 0 Axes>"
            ]
          },
          "metadata": {
            "tags": []
          },
          "output_type": "display_data"
        },
        {
          "data": {
            "image/png": "[encoded data removed]",
            "text/plain": [
              "<Figure size 1152x864 with 1 Axes>"
            ]
          },
          "metadata": {
            "needs_background": "light",
            "tags": []
          },
          "output_type": "display_data"
        },
        {
          "name": "stdout",
          "output_type": "stream",
          "text": [
            "Accuracy per class is\n",
            "World News: 0.91\n",
            "Sport News: 0.97\n",
            "Business News: 0.85\n",
            "Science-Technology News: 0.91\n"
          ]
        }
      ],
      "source": [
        "plot_cm(conf)"
      ]
    },
    {
      "cell_type": "markdown",
      "metadata": {},
      "source": [
        "Accuracy of Science-Technology has improved but there are still problems with Bussiness News. Let's check some of the mistakes."
      ]
    },
    {
      "cell_type": "code",
      "execution_count": 57,
      "metadata": {
        "colab": {
          "base_uri": "https://localhost:8080/"
        },
        "id": "fm-QMSAVwgzD",
        "outputId": "7d71ae76-2bbf-4ce8-d814-62b27a1d2886"
      },
      "outputs": [
        {
          "data": {
            "text/plain": [
              "array([b'Next week, the FCC will likely change the rules on unbundled networks largely in ways favorable to the Regional bells.',\n",
              "       b'The company has no further expansion plans after buying a Chinese website. Also: Virgin joins quest for a better iPod   hellip;. PeopleSoft makes promise that Oracle will live up to   hellip;. and more.',\n",
              "       b' quot;Apple has invested heavily in technology to edit pictures. Not having a portable device to show them seemed an obvious oversight that would be corrected once the price of the displays ',\n",
              "       b'German industrial giant Siemens has signed a 2.69bn contract to deliver technology services around the world to the BBC, a deal that will see it acquire the broadcasters technology subsidiary.',\n",
              "       b\"SEATTLE -- Not too long ago, Google Inc. seemed little more than a pesky insect to Microsoft Corp.'s 800-pound gorilla.\",\n",
              "       b'If you #39;ve ever been in an airplane that has to abort a landing, you know that it is a completely hair-raising, disorienting experience.',\n",
              "       b'A little over a year after introducing the first version of Office Live Communications Server, Microsoft says it plans to release the next version of its enterprise instant messaging software, in December.',\n",
              "       b'People in Florida and Alabama have started to clean up after hurricane Ivan - the third such pummelling for Florida alone in just five weeks.',\n",
              "       b\"AP - Normally at this time of the year, labor contractor Jose Luis Avalos would be assembling a crew of workers who could each earn  #36;1,500 to  #36;2,000 a week in the area's abundant citrus groves.\",\n",
              "       b'At the airport, you hear all of the usual explanations: bad weather, mechanical difficulties, no crew available. But now there #39;s another excuse you might hear as times get tougher for cash '],\n",
              "      dtype=object)"
            ]
          },
          "execution_count": 57,
          "metadata": {
            "tags": []
          },
          "output_type": "execute_result"
        }
      ],
      "source": [
        "test_desc[np.where(np.logical_and((test_label == 2), (y_hats == 3)))[0][:10]]"
      ]
    },
    {
      "cell_type": "markdown",
      "metadata": {
        "id": "gRo7Soy3xqWf"
      },
      "source": [
        "Clearly many of the business news are about tech companies and they can be easily misclassified as sci-tech news even by human."
      ]
    },
    {
      "cell_type": "markdown",
      "metadata": {
        "id": "CIC5ERlut6a8"
      },
      "source": [
        "### Model for classification\n",
        "As a final step, we build a function that classifies a text based on our model."
      ]
    },
    {
      "cell_type": "code",
      "execution_count": 58,
      "metadata": {
        "id": "ZLhUxfnq_Xl_"
      },
      "outputs": [],
      "source": [
        "def classify(text, decode=False):\n",
        "  labels = ['World News', 'Sports News', 'Business News', 'Science-Technology News']\n",
        "  text_proc = tokenize(text, decode)\n",
        "  text_vec = vectorizer([text_proc])\n",
        "  #text_vec = tf.expand_dims(text_vec, axis=0)\n",
        "  pred = np.argmax(model.predict(text_vec))\n",
        "  print('{} - {}'.format(text, labels[pred]))"
      ]
    },
    {
      "cell_type": "code",
      "execution_count": 59,
      "metadata": {
        "colab": {
          "base_uri": "https://localhost:8080/"
        },
        "id": "kFmcmgChDvzi",
        "outputId": "fda2e033-10b7-4a2d-f24f-097798f5033a"
      },
      "outputs": [
        {
          "name": "stdout",
          "output_type": "stream",
          "text": [
            "Rocket went to space. - Science-Technology News\n"
          ]
        }
      ],
      "source": [
        "classify(\"Rocket went to space.\")"
      ]
    },
    {
      "cell_type": "code",
      "execution_count": 60,
      "metadata": {
        "colab": {
          "base_uri": "https://localhost:8080/"
        },
        "id": "wciG93eMEtNv",
        "outputId": "fc4e3378-5f27-4418-d371-505debab8961"
      },
      "outputs": [
        {
          "name": "stdout",
          "output_type": "stream",
          "text": [
            "President met with me. - World News\n"
          ]
        }
      ],
      "source": [
        "classify(\"President met with me.\")"
      ]
    },
    {
      "cell_type": "code",
      "execution_count": 61,
      "metadata": {
        "colab": {
          "base_uri": "https://localhost:8080/"
        },
        "id": "0nUySetpEziC",
        "outputId": "e578d311-3691-40bf-826a-89a5f03ab57f"
      },
      "outputs": [
        {
          "name": "stdout",
          "output_type": "stream",
          "text": [
            "Unemployment decreases. - Business News\n"
          ]
        }
      ],
      "source": [
        "classify(\"Unemployment decreases.\")"
      ]
    },
    {
      "cell_type": "code",
      "execution_count": 62,
      "metadata": {
        "colab": {
          "base_uri": "https://localhost:8080/"
        },
        "id": "iqNWpaeIFHcT",
        "outputId": "9e0c13cf-fe72-4e61-828e-1e5e3cb3d8e4"
      },
      "outputs": [
        {
          "name": "stdout",
          "output_type": "stream",
          "text": [
            "New basketball season begins. - Sports News\n"
          ]
        }
      ],
      "source": [
        "classify(\"New basketball season begins.\")"
      ]
    },
    {
      "cell_type": "markdown",
      "metadata": {},
      "source": [
        "As we can see, the classifier is quite effective."
      ]
    },
    {
      "cell_type": "markdown",
      "metadata": {
        "id": "ra_BSLSjv1TV"
      },
      "source": [
        "### Conclusions\n",
        "We have used the Naive Bayes method and deep recurrent neural networks with LSTMs with and without transfer learning to classify the news articles. The best accuracy was obtained with RNNs combined with transfer learning (91.5%) but even with simple Naive Bayes classifier 88% were achieved. The obtained results were satisfactory given that the best models based on transformers achieve accuracy of 95%."
      ]
    }
  ],
  "metadata": {
    "accelerator": "GPU",
    "colab": {
      "collapsed_sections": [],
      "name": "sentinment_classification.ipynb",
      "provenance": [],
      "toc_visible": true
    },
    "kernelspec": {
      "display_name": "Python 3",
      "language": "python",
      "name": "python3"
    },
    "language_info": {
      "codemirror_mode": {
        "name": "ipython",
        "version": 3
      },
      "file_extension": ".py",
      "mimetype": "text/x-python",
      "name": "python",
      "nbconvert_exporter": "python",
      "pygments_lexer": "ipython3",
      "version": "3.8.5"
    },
    "widgets": {
      "application/vnd.jupyter.widget-state+json": {
        "06cea5fe11ae4c2a96c7c7e663a9bbef": {
          "model_module": "@jupyter-widgets/base",
          "model_name": "LayoutModel",
          "state": {
            "_model_module": "@jupyter-widgets/base",
            "_model_module_version": "1.2.0",
            "_model_name": "LayoutModel",
            "_view_count": null,
            "_view_module": "@jupyter-widgets/base",
            "_view_module_version": "1.2.0",
            "_view_name": "LayoutView",
            "align_content": null,
            "align_items": null,
            "align_self": null,
            "border": null,
            "bottom": null,
            "display": null,
            "flex": null,
            "flex_flow": null,
            "grid_area": null,
            "grid_auto_columns": null,
            "grid_auto_flow": null,
            "grid_auto_rows": null,
            "grid_column": null,
            "grid_gap": null,
            "grid_row": null,
            "grid_template_areas": null,
            "grid_template_columns": null,
            "grid_template_rows": null,
            "height": null,
            "justify_content": null,
            "justify_items": null,
            "left": null,
            "margin": null,
            "max_height": null,
            "max_width": null,
            "min_height": null,
            "min_width": null,
            "object_fit": null,
            "object_position": null,
            "order": null,
            "overflow": null,
            "overflow_x": null,
            "overflow_y": null,
            "padding": null,
            "right": null,
            "top": null,
            "visibility": null,
            "width": null
          }
        },
        "0ccd9c03e9d74fea9915228499c26f92": {
          "model_module": "@jupyter-widgets/base",
          "model_name": "LayoutModel",
          "state": {
            "_model_module": "@jupyter-widgets/base",
            "_model_module_version": "1.2.0",
            "_model_name": "LayoutModel",
            "_view_count": null,
            "_view_module": "@jupyter-widgets/base",
            "_view_module_version": "1.2.0",
            "_view_name": "LayoutView",
            "align_content": null,
            "align_items": null,
            "align_self": null,
            "border": null,
            "bottom": null,
            "display": null,
            "flex": null,
            "flex_flow": null,
            "grid_area": null,
            "grid_auto_columns": null,
            "grid_auto_flow": null,
            "grid_auto_rows": null,
            "grid_column": null,
            "grid_gap": null,
            "grid_row": null,
            "grid_template_areas": null,
            "grid_template_columns": null,
            "grid_template_rows": null,
            "height": null,
            "justify_content": null,
            "justify_items": null,
            "left": null,
            "margin": null,
            "max_height": null,
            "max_width": null,
            "min_height": null,
            "min_width": null,
            "object_fit": null,
            "object_position": null,
            "order": null,
            "overflow": null,
            "overflow_x": null,
            "overflow_y": null,
            "padding": null,
            "right": null,
            "top": null,
            "visibility": null,
            "width": null
          }
        },
        "0e1e03483a79437c91713015c1b0f98b": {
          "model_module": "@jupyter-widgets/base",
          "model_name": "LayoutModel",
          "state": {
            "_model_module": "@jupyter-widgets/base",
            "_model_module_version": "1.2.0",
            "_model_name": "LayoutModel",
            "_view_count": null,
            "_view_module": "@jupyter-widgets/base",
            "_view_module_version": "1.2.0",
            "_view_name": "LayoutView",
            "align_content": null,
            "align_items": null,
            "align_self": null,
            "border": null,
            "bottom": null,
            "display": null,
            "flex": null,
            "flex_flow": null,
            "grid_area": null,
            "grid_auto_columns": null,
            "grid_auto_flow": null,
            "grid_auto_rows": null,
            "grid_column": null,
            "grid_gap": null,
            "grid_row": null,
            "grid_template_areas": null,
            "grid_template_columns": null,
            "grid_template_rows": null,
            "height": null,
            "justify_content": null,
            "justify_items": null,
            "left": null,
            "margin": null,
            "max_height": null,
            "max_width": null,
            "min_height": null,
            "min_width": null,
            "object_fit": null,
            "object_position": null,
            "order": null,
            "overflow": null,
            "overflow_x": null,
            "overflow_y": null,
            "padding": null,
            "right": null,
            "top": null,
            "visibility": null,
            "width": null
          }
        },
        "19c06c2900ba4101bdcce074c7834b70": {
          "model_module": "@jupyter-widgets/base",
          "model_name": "LayoutModel",
          "state": {
            "_model_module": "@jupyter-widgets/base",
            "_model_module_version": "1.2.0",
            "_model_name": "LayoutModel",
            "_view_count": null,
            "_view_module": "@jupyter-widgets/base",
            "_view_module_version": "1.2.0",
            "_view_name": "LayoutView",
            "align_content": null,
            "align_items": null,
            "align_self": null,
            "border": null,
            "bottom": null,
            "display": null,
            "flex": null,
            "flex_flow": null,
            "grid_area": null,
            "grid_auto_columns": null,
            "grid_auto_flow": null,
            "grid_auto_rows": null,
            "grid_column": null,
            "grid_gap": null,
            "grid_row": null,
            "grid_template_areas": null,
            "grid_template_columns": null,
            "grid_template_rows": null,
            "height": null,
            "justify_content": null,
            "justify_items": null,
            "left": null,
            "margin": null,
            "max_height": null,
            "max_width": null,
            "min_height": null,
            "min_width": null,
            "object_fit": null,
            "object_position": null,
            "order": null,
            "overflow": null,
            "overflow_x": null,
            "overflow_y": null,
            "padding": null,
            "right": null,
            "top": null,
            "visibility": null,
            "width": null
          }
        },
        "1adea849c8aa46d4a5b22102f81886a2": {
          "model_module": "@jupyter-widgets/controls",
          "model_name": "ProgressStyleModel",
          "state": {
            "_model_module": "@jupyter-widgets/controls",
            "_model_module_version": "1.5.0",
            "_model_name": "ProgressStyleModel",
            "_view_count": null,
            "_view_module": "@jupyter-widgets/base",
            "_view_module_version": "1.2.0",
            "_view_name": "StyleView",
            "bar_color": null,
            "description_width": "initial"
          }
        },
        "1fd475f165304f5cbe5a8c525cfa257d": {
          "model_module": "@jupyter-widgets/base",
          "model_name": "LayoutModel",
          "state": {
            "_model_module": "@jupyter-widgets/base",
            "_model_module_version": "1.2.0",
            "_model_name": "LayoutModel",
            "_view_count": null,
            "_view_module": "@jupyter-widgets/base",
            "_view_module_version": "1.2.0",
            "_view_name": "LayoutView",
            "align_content": null,
            "align_items": null,
            "align_self": null,
            "border": null,
            "bottom": null,
            "display": null,
            "flex": null,
            "flex_flow": null,
            "grid_area": null,
            "grid_auto_columns": null,
            "grid_auto_flow": null,
            "grid_auto_rows": null,
            "grid_column": null,
            "grid_gap": null,
            "grid_row": null,
            "grid_template_areas": null,
            "grid_template_columns": null,
            "grid_template_rows": null,
            "height": null,
            "justify_content": null,
            "justify_items": null,
            "left": null,
            "margin": null,
            "max_height": null,
            "max_width": null,
            "min_height": null,
            "min_width": null,
            "object_fit": null,
            "object_position": null,
            "order": null,
            "overflow": null,
            "overflow_x": null,
            "overflow_y": null,
            "padding": null,
            "right": null,
            "top": null,
            "visibility": null,
            "width": null
          }
        },
        "28445e57533c45a8820e47f64bf910f2": {
          "model_module": "@jupyter-widgets/base",
          "model_name": "LayoutModel",
          "state": {
            "_model_module": "@jupyter-widgets/base",
            "_model_module_version": "1.2.0",
            "_model_name": "LayoutModel",
            "_view_count": null,
            "_view_module": "@jupyter-widgets/base",
            "_view_module_version": "1.2.0",
            "_view_name": "LayoutView",
            "align_content": null,
            "align_items": null,
            "align_self": null,
            "border": null,
            "bottom": null,
            "display": null,
            "flex": null,
            "flex_flow": null,
            "grid_area": null,
            "grid_auto_columns": null,
            "grid_auto_flow": null,
            "grid_auto_rows": null,
            "grid_column": null,
            "grid_gap": null,
            "grid_row": null,
            "grid_template_areas": null,
            "grid_template_columns": null,
            "grid_template_rows": null,
            "height": null,
            "justify_content": null,
            "justify_items": null,
            "left": null,
            "margin": null,
            "max_height": null,
            "max_width": null,
            "min_height": null,
            "min_width": null,
            "object_fit": null,
            "object_position": null,
            "order": null,
            "overflow": null,
            "overflow_x": null,
            "overflow_y": null,
            "padding": null,
            "right": null,
            "top": null,
            "visibility": null,
            "width": null
          }
        },
        "2a7f46f9e3b54f63be1e8e65897499e0": {
          "model_module": "@jupyter-widgets/controls",
          "model_name": "DescriptionStyleModel",
          "state": {
            "_model_module": "@jupyter-widgets/controls",
            "_model_module_version": "1.5.0",
            "_model_name": "DescriptionStyleModel",
            "_view_count": null,
            "_view_module": "@jupyter-widgets/base",
            "_view_module_version": "1.2.0",
            "_view_name": "StyleView",
            "description_width": ""
          }
        },
        "2cc746e23a734e6fa04aa838f9905e13": {
          "model_module": "@jupyter-widgets/controls",
          "model_name": "DescriptionStyleModel",
          "state": {
            "_model_module": "@jupyter-widgets/controls",
            "_model_module_version": "1.5.0",
            "_model_name": "DescriptionStyleModel",
            "_view_count": null,
            "_view_module": "@jupyter-widgets/base",
            "_view_module_version": "1.2.0",
            "_view_name": "StyleView",
            "description_width": ""
          }
        },
        "2ddf775d87a7423689bcd01112e4af17": {
          "model_module": "@jupyter-widgets/controls",
          "model_name": "FloatProgressModel",
          "state": {
            "_dom_classes": [],
            "_model_module": "@jupyter-widgets/controls",
            "_model_module_version": "1.5.0",
            "_model_name": "FloatProgressModel",
            "_view_count": null,
            "_view_module": "@jupyter-widgets/controls",
            "_view_module_version": "1.5.0",
            "_view_name": "ProgressView",
            "bar_style": "info",
            "description": "",
            "description_tooltip": null,
            "layout": "IPY_MODEL_639ccd938e904b1c8ad1e84a4cae8d33",
            "max": 1,
            "min": 0,
            "orientation": "horizontal",
            "style": "IPY_MODEL_40d0b3ff7abe46fea85e990a66f7c745",
            "value": 1
          }
        },
        "32778a31c70e45fdae1affb45bbc0d9d": {
          "model_module": "@jupyter-widgets/base",
          "model_name": "LayoutModel",
          "state": {
            "_model_module": "@jupyter-widgets/base",
            "_model_module_version": "1.2.0",
            "_model_name": "LayoutModel",
            "_view_count": null,
            "_view_module": "@jupyter-widgets/base",
            "_view_module_version": "1.2.0",
            "_view_name": "LayoutView",
            "align_content": null,
            "align_items": null,
            "align_self": null,
            "border": null,
            "bottom": null,
            "display": null,
            "flex": null,
            "flex_flow": null,
            "grid_area": null,
            "grid_auto_columns": null,
            "grid_auto_flow": null,
            "grid_auto_rows": null,
            "grid_column": null,
            "grid_gap": null,
            "grid_row": null,
            "grid_template_areas": null,
            "grid_template_columns": null,
            "grid_template_rows": null,
            "height": null,
            "justify_content": null,
            "justify_items": null,
            "left": null,
            "margin": null,
            "max_height": null,
            "max_width": null,
            "min_height": null,
            "min_width": null,
            "object_fit": null,
            "object_position": null,
            "order": null,
            "overflow": null,
            "overflow_x": null,
            "overflow_y": null,
            "padding": null,
            "right": null,
            "top": null,
            "visibility": null,
            "width": null
          }
        },
        "328635009338479a8525f34b25372452": {
          "model_module": "@jupyter-widgets/controls",
          "model_name": "FloatProgressModel",
          "state": {
            "_dom_classes": [],
            "_model_module": "@jupyter-widgets/controls",
            "_model_module_version": "1.5.0",
            "_model_name": "FloatProgressModel",
            "_view_count": null,
            "_view_module": "@jupyter-widgets/controls",
            "_view_module_version": "1.5.0",
            "_view_name": "ProgressView",
            "bar_style": "info",
            "description": "",
            "description_tooltip": null,
            "layout": "IPY_MODEL_19c06c2900ba4101bdcce074c7834b70",
            "max": 1,
            "min": 0,
            "orientation": "horizontal",
            "style": "IPY_MODEL_ffcfa672860a4b119eb5178fb78461c6",
            "value": 1
          }
        },
        "40d0b3ff7abe46fea85e990a66f7c745": {
          "model_module": "@jupyter-widgets/controls",
          "model_name": "ProgressStyleModel",
          "state": {
            "_model_module": "@jupyter-widgets/controls",
            "_model_module_version": "1.5.0",
            "_model_name": "ProgressStyleModel",
            "_view_count": null,
            "_view_module": "@jupyter-widgets/base",
            "_view_module_version": "1.2.0",
            "_view_name": "StyleView",
            "bar_color": null,
            "description_width": "initial"
          }
        },
        "4953d5fbb1424510bb5f1d09aae0ea01": {
          "model_module": "@jupyter-widgets/base",
          "model_name": "LayoutModel",
          "state": {
            "_model_module": "@jupyter-widgets/base",
            "_model_module_version": "1.2.0",
            "_model_name": "LayoutModel",
            "_view_count": null,
            "_view_module": "@jupyter-widgets/base",
            "_view_module_version": "1.2.0",
            "_view_name": "LayoutView",
            "align_content": null,
            "align_items": null,
            "align_self": null,
            "border": null,
            "bottom": null,
            "display": null,
            "flex": null,
            "flex_flow": null,
            "grid_area": null,
            "grid_auto_columns": null,
            "grid_auto_flow": null,
            "grid_auto_rows": null,
            "grid_column": null,
            "grid_gap": null,
            "grid_row": null,
            "grid_template_areas": null,
            "grid_template_columns": null,
            "grid_template_rows": null,
            "height": null,
            "justify_content": null,
            "justify_items": null,
            "left": null,
            "margin": null,
            "max_height": null,
            "max_width": null,
            "min_height": null,
            "min_width": null,
            "object_fit": null,
            "object_position": null,
            "order": null,
            "overflow": null,
            "overflow_x": null,
            "overflow_y": null,
            "padding": null,
            "right": null,
            "top": null,
            "visibility": null,
            "width": null
          }
        },
        "4dcb226a8e4e4ccb9e8fc5218c84767f": {
          "model_module": "@jupyter-widgets/base",
          "model_name": "LayoutModel",
          "state": {
            "_model_module": "@jupyter-widgets/base",
            "_model_module_version": "1.2.0",
            "_model_name": "LayoutModel",
            "_view_count": null,
            "_view_module": "@jupyter-widgets/base",
            "_view_module_version": "1.2.0",
            "_view_name": "LayoutView",
            "align_content": null,
            "align_items": null,
            "align_self": null,
            "border": null,
            "bottom": null,
            "display": null,
            "flex": null,
            "flex_flow": null,
            "grid_area": null,
            "grid_auto_columns": null,
            "grid_auto_flow": null,
            "grid_auto_rows": null,
            "grid_column": null,
            "grid_gap": null,
            "grid_row": null,
            "grid_template_areas": null,
            "grid_template_columns": null,
            "grid_template_rows": null,
            "height": null,
            "justify_content": null,
            "justify_items": null,
            "left": null,
            "margin": null,
            "max_height": null,
            "max_width": null,
            "min_height": null,
            "min_width": null,
            "object_fit": null,
            "object_position": null,
            "order": null,
            "overflow": null,
            "overflow_x": null,
            "overflow_y": null,
            "padding": null,
            "right": null,
            "top": null,
            "visibility": null,
            "width": null
          }
        },
        "509d7153c2b54242a17de193cc041439": {
          "model_module": "@jupyter-widgets/base",
          "model_name": "LayoutModel",
          "state": {
            "_model_module": "@jupyter-widgets/base",
            "_model_module_version": "1.2.0",
            "_model_name": "LayoutModel",
            "_view_count": null,
            "_view_module": "@jupyter-widgets/base",
            "_view_module_version": "1.2.0",
            "_view_name": "LayoutView",
            "align_content": null,
            "align_items": null,
            "align_self": null,
            "border": null,
            "bottom": null,
            "display": null,
            "flex": null,
            "flex_flow": null,
            "grid_area": null,
            "grid_auto_columns": null,
            "grid_auto_flow": null,
            "grid_auto_rows": null,
            "grid_column": null,
            "grid_gap": null,
            "grid_row": null,
            "grid_template_areas": null,
            "grid_template_columns": null,
            "grid_template_rows": null,
            "height": null,
            "justify_content": null,
            "justify_items": null,
            "left": null,
            "margin": null,
            "max_height": null,
            "max_width": null,
            "min_height": null,
            "min_width": null,
            "object_fit": null,
            "object_position": null,
            "order": null,
            "overflow": null,
            "overflow_x": null,
            "overflow_y": null,
            "padding": null,
            "right": null,
            "top": null,
            "visibility": null,
            "width": null
          }
        },
        "52a1cb808fee4e5785a9c85c7877455c": {
          "model_module": "@jupyter-widgets/base",
          "model_name": "LayoutModel",
          "state": {
            "_model_module": "@jupyter-widgets/base",
            "_model_module_version": "1.2.0",
            "_model_name": "LayoutModel",
            "_view_count": null,
            "_view_module": "@jupyter-widgets/base",
            "_view_module_version": "1.2.0",
            "_view_name": "LayoutView",
            "align_content": null,
            "align_items": null,
            "align_self": null,
            "border": null,
            "bottom": null,
            "display": null,
            "flex": null,
            "flex_flow": null,
            "grid_area": null,
            "grid_auto_columns": null,
            "grid_auto_flow": null,
            "grid_auto_rows": null,
            "grid_column": null,
            "grid_gap": null,
            "grid_row": null,
            "grid_template_areas": null,
            "grid_template_columns": null,
            "grid_template_rows": null,
            "height": null,
            "justify_content": null,
            "justify_items": null,
            "left": null,
            "margin": null,
            "max_height": null,
            "max_width": null,
            "min_height": null,
            "min_width": null,
            "object_fit": null,
            "object_position": null,
            "order": null,
            "overflow": null,
            "overflow_x": null,
            "overflow_y": null,
            "padding": null,
            "right": null,
            "top": null,
            "visibility": null,
            "width": null
          }
        },
        "6098f4b82e414657bf4e44c779ccbf42": {
          "model_module": "@jupyter-widgets/controls",
          "model_name": "HBoxModel",
          "state": {
            "_dom_classes": [],
            "_model_module": "@jupyter-widgets/controls",
            "_model_module_version": "1.5.0",
            "_model_name": "HBoxModel",
            "_view_count": null,
            "_view_module": "@jupyter-widgets/controls",
            "_view_module_version": "1.5.0",
            "_view_name": "HBoxView",
            "box_style": "",
            "children": [
              "IPY_MODEL_2ddf775d87a7423689bcd01112e4af17",
              "IPY_MODEL_eb2658a24ede4e59a0e5a0208a036ce2"
            ],
            "layout": "IPY_MODEL_0ccd9c03e9d74fea9915228499c26f92"
          }
        },
        "639ccd938e904b1c8ad1e84a4cae8d33": {
          "model_module": "@jupyter-widgets/base",
          "model_name": "LayoutModel",
          "state": {
            "_model_module": "@jupyter-widgets/base",
            "_model_module_version": "1.2.0",
            "_model_name": "LayoutModel",
            "_view_count": null,
            "_view_module": "@jupyter-widgets/base",
            "_view_module_version": "1.2.0",
            "_view_name": "LayoutView",
            "align_content": null,
            "align_items": null,
            "align_self": null,
            "border": null,
            "bottom": null,
            "display": null,
            "flex": null,
            "flex_flow": null,
            "grid_area": null,
            "grid_auto_columns": null,
            "grid_auto_flow": null,
            "grid_auto_rows": null,
            "grid_column": null,
            "grid_gap": null,
            "grid_row": null,
            "grid_template_areas": null,
            "grid_template_columns": null,
            "grid_template_rows": null,
            "height": null,
            "justify_content": null,
            "justify_items": null,
            "left": null,
            "margin": null,
            "max_height": null,
            "max_width": null,
            "min_height": null,
            "min_width": null,
            "object_fit": null,
            "object_position": null,
            "order": null,
            "overflow": null,
            "overflow_x": null,
            "overflow_y": null,
            "padding": null,
            "right": null,
            "top": null,
            "visibility": null,
            "width": null
          }
        },
        "6c8d23756cb74583bdbf042ab2555c73": {
          "model_module": "@jupyter-widgets/controls",
          "model_name": "FloatProgressModel",
          "state": {
            "_dom_classes": [],
            "_model_module": "@jupyter-widgets/controls",
            "_model_module_version": "1.5.0",
            "_model_name": "FloatProgressModel",
            "_view_count": null,
            "_view_module": "@jupyter-widgets/controls",
            "_view_module_version": "1.5.0",
            "_view_name": "ProgressView",
            "bar_style": "danger",
            "description": " 71%",
            "description_tooltip": null,
            "layout": "IPY_MODEL_32778a31c70e45fdae1affb45bbc0d9d",
            "max": 120000,
            "min": 0,
            "orientation": "horizontal",
            "style": "IPY_MODEL_6f973443a95b4b4e9408a7e85ab62536",
            "value": 84961
          }
        },
        "6f1081f7d1ce45ec85ade01232dc8e33": {
          "model_module": "@jupyter-widgets/controls",
          "model_name": "DescriptionStyleModel",
          "state": {
            "_model_module": "@jupyter-widgets/controls",
            "_model_module_version": "1.5.0",
            "_model_name": "DescriptionStyleModel",
            "_view_count": null,
            "_view_module": "@jupyter-widgets/base",
            "_view_module_version": "1.2.0",
            "_view_name": "StyleView",
            "description_width": ""
          }
        },
        "6f973443a95b4b4e9408a7e85ab62536": {
          "model_module": "@jupyter-widgets/controls",
          "model_name": "ProgressStyleModel",
          "state": {
            "_model_module": "@jupyter-widgets/controls",
            "_model_module_version": "1.5.0",
            "_model_name": "ProgressStyleModel",
            "_view_count": null,
            "_view_module": "@jupyter-widgets/base",
            "_view_module_version": "1.2.0",
            "_view_name": "StyleView",
            "bar_color": null,
            "description_width": "initial"
          }
        },
        "7a954e7ad9804b1fa81db1a47a4c6aab": {
          "model_module": "@jupyter-widgets/controls",
          "model_name": "HTMLModel",
          "state": {
            "_dom_classes": [],
            "_model_module": "@jupyter-widgets/controls",
            "_model_module_version": "1.5.0",
            "_model_name": "HTMLModel",
            "_view_count": null,
            "_view_module": "@jupyter-widgets/controls",
            "_view_module_version": "1.5.0",
            "_view_name": "HTMLView",
            "description": "",
            "description_tooltip": null,
            "layout": "IPY_MODEL_d153bae6116d40fe88518c775dc6f558",
            "placeholder": "​",
            "style": "IPY_MODEL_c07c5869bd2a4698ade728bebced41ef",
            "value": " 0/0 [00:00&lt;?, ? MiB/s]"
          }
        },
        "7c1ed20fd8d04df1a61e0bc5059a2c2c": {
          "model_module": "@jupyter-widgets/base",
          "model_name": "LayoutModel",
          "state": {
            "_model_module": "@jupyter-widgets/base",
            "_model_module_version": "1.2.0",
            "_model_name": "LayoutModel",
            "_view_count": null,
            "_view_module": "@jupyter-widgets/base",
            "_view_module_version": "1.2.0",
            "_view_name": "LayoutView",
            "align_content": null,
            "align_items": null,
            "align_self": null,
            "border": null,
            "bottom": null,
            "display": null,
            "flex": null,
            "flex_flow": null,
            "grid_area": null,
            "grid_auto_columns": null,
            "grid_auto_flow": null,
            "grid_auto_rows": null,
            "grid_column": null,
            "grid_gap": null,
            "grid_row": null,
            "grid_template_areas": null,
            "grid_template_columns": null,
            "grid_template_rows": null,
            "height": null,
            "justify_content": null,
            "justify_items": null,
            "left": null,
            "margin": null,
            "max_height": null,
            "max_width": null,
            "min_height": null,
            "min_width": null,
            "object_fit": null,
            "object_position": null,
            "order": null,
            "overflow": null,
            "overflow_x": null,
            "overflow_y": null,
            "padding": null,
            "right": null,
            "top": null,
            "visibility": null,
            "width": null
          }
        },
        "7ccddd7d1dca4d63afd9f0b62fa58a4b": {
          "model_module": "@jupyter-widgets/base",
          "model_name": "LayoutModel",
          "state": {
            "_model_module": "@jupyter-widgets/base",
            "_model_module_version": "1.2.0",
            "_model_name": "LayoutModel",
            "_view_count": null,
            "_view_module": "@jupyter-widgets/base",
            "_view_module_version": "1.2.0",
            "_view_name": "LayoutView",
            "align_content": null,
            "align_items": null,
            "align_self": null,
            "border": null,
            "bottom": null,
            "display": null,
            "flex": null,
            "flex_flow": null,
            "grid_area": null,
            "grid_auto_columns": null,
            "grid_auto_flow": null,
            "grid_auto_rows": null,
            "grid_column": null,
            "grid_gap": null,
            "grid_row": null,
            "grid_template_areas": null,
            "grid_template_columns": null,
            "grid_template_rows": null,
            "height": null,
            "justify_content": null,
            "justify_items": null,
            "left": null,
            "margin": null,
            "max_height": null,
            "max_width": null,
            "min_height": null,
            "min_width": null,
            "object_fit": null,
            "object_position": null,
            "order": null,
            "overflow": null,
            "overflow_x": null,
            "overflow_y": null,
            "padding": null,
            "right": null,
            "top": null,
            "visibility": null,
            "width": null
          }
        },
        "7e93b72a624243be8a6fce8ebed2e8e5": {
          "model_module": "@jupyter-widgets/base",
          "model_name": "LayoutModel",
          "state": {
            "_model_module": "@jupyter-widgets/base",
            "_model_module_version": "1.2.0",
            "_model_name": "LayoutModel",
            "_view_count": null,
            "_view_module": "@jupyter-widgets/base",
            "_view_module_version": "1.2.0",
            "_view_name": "LayoutView",
            "align_content": null,
            "align_items": null,
            "align_self": null,
            "border": null,
            "bottom": null,
            "display": null,
            "flex": null,
            "flex_flow": null,
            "grid_area": null,
            "grid_auto_columns": null,
            "grid_auto_flow": null,
            "grid_auto_rows": null,
            "grid_column": null,
            "grid_gap": null,
            "grid_row": null,
            "grid_template_areas": null,
            "grid_template_columns": null,
            "grid_template_rows": null,
            "height": null,
            "justify_content": null,
            "justify_items": null,
            "left": null,
            "margin": null,
            "max_height": null,
            "max_width": null,
            "min_height": null,
            "min_width": null,
            "object_fit": null,
            "object_position": null,
            "order": null,
            "overflow": null,
            "overflow_x": null,
            "overflow_y": null,
            "padding": null,
            "right": null,
            "top": null,
            "visibility": null,
            "width": null
          }
        },
        "800c9ccaee3c45499e57face9124644f": {
          "model_module": "@jupyter-widgets/controls",
          "model_name": "FloatProgressModel",
          "state": {
            "_dom_classes": [],
            "_model_module": "@jupyter-widgets/controls",
            "_model_module_version": "1.5.0",
            "_model_name": "FloatProgressModel",
            "_view_count": null,
            "_view_module": "@jupyter-widgets/controls",
            "_view_module_version": "1.5.0",
            "_view_name": "ProgressView",
            "bar_style": "danger",
            "description": "  0%",
            "description_tooltip": null,
            "layout": "IPY_MODEL_e0388d4052014ffeb6d394ce5bd003a1",
            "max": 7600,
            "min": 0,
            "orientation": "horizontal",
            "style": "IPY_MODEL_d75bf8c6212f43caafd944ce1720a294",
            "value": 0
          }
        },
        "86409fed62f141d7b7695a85797c406e": {
          "model_module": "@jupyter-widgets/base",
          "model_name": "LayoutModel",
          "state": {
            "_model_module": "@jupyter-widgets/base",
            "_model_module_version": "1.2.0",
            "_model_name": "LayoutModel",
            "_view_count": null,
            "_view_module": "@jupyter-widgets/base",
            "_view_module_version": "1.2.0",
            "_view_name": "LayoutView",
            "align_content": null,
            "align_items": null,
            "align_self": null,
            "border": null,
            "bottom": null,
            "display": null,
            "flex": null,
            "flex_flow": null,
            "grid_area": null,
            "grid_auto_columns": null,
            "grid_auto_flow": null,
            "grid_auto_rows": null,
            "grid_column": null,
            "grid_gap": null,
            "grid_row": null,
            "grid_template_areas": null,
            "grid_template_columns": null,
            "grid_template_rows": null,
            "height": null,
            "justify_content": null,
            "justify_items": null,
            "left": null,
            "margin": null,
            "max_height": null,
            "max_width": null,
            "min_height": null,
            "min_width": null,
            "object_fit": null,
            "object_position": null,
            "order": null,
            "overflow": null,
            "overflow_x": null,
            "overflow_y": null,
            "padding": null,
            "right": null,
            "top": null,
            "visibility": null,
            "width": null
          }
        },
        "8a04cadc43e24ca39f1bdfe0f81f4ae9": {
          "model_module": "@jupyter-widgets/controls",
          "model_name": "HTMLModel",
          "state": {
            "_dom_classes": [],
            "_model_module": "@jupyter-widgets/controls",
            "_model_module_version": "1.5.0",
            "_model_name": "HTMLModel",
            "_view_count": null,
            "_view_module": "@jupyter-widgets/controls",
            "_view_module_version": "1.5.0",
            "_view_name": "HTMLView",
            "description": "",
            "description_tooltip": null,
            "layout": "IPY_MODEL_cfcdabc4e6ec4449b561bf3acd573bcc",
            "placeholder": "​",
            "style": "IPY_MODEL_c1cf1270fcd840b4a00b0b4fd4ba1c73",
            "value": " 84961/120000 [00:00&lt;40:56, 14.26 examples/s]"
          }
        },
        "9196e2a5b16c48e1a6b840f6e0135f60": {
          "model_module": "@jupyter-widgets/controls",
          "model_name": "HBoxModel",
          "state": {
            "_dom_classes": [],
            "_model_module": "@jupyter-widgets/controls",
            "_model_module_version": "1.5.0",
            "_model_name": "HBoxModel",
            "_view_count": null,
            "_view_module": "@jupyter-widgets/controls",
            "_view_module_version": "1.5.0",
            "_view_name": "HBoxView",
            "box_style": "",
            "children": [
              "IPY_MODEL_b7e0d73351ab4a5eb496772be9db588e",
              "IPY_MODEL_7a954e7ad9804b1fa81db1a47a4c6aab"
            ],
            "layout": "IPY_MODEL_7e93b72a624243be8a6fce8ebed2e8e5"
          }
        },
        "9ee03d89ca104d2c85337722285fbce3": {
          "model_module": "@jupyter-widgets/controls",
          "model_name": "FloatProgressModel",
          "state": {
            "_dom_classes": [],
            "_model_module": "@jupyter-widgets/controls",
            "_model_module_version": "1.5.0",
            "_model_name": "FloatProgressModel",
            "_view_count": null,
            "_view_module": "@jupyter-widgets/controls",
            "_view_module_version": "1.5.0",
            "_view_name": "ProgressView",
            "bar_style": "success",
            "description": "Dl Completed...: ",
            "description_tooltip": null,
            "layout": "IPY_MODEL_1fd475f165304f5cbe5a8c525cfa257d",
            "max": 1,
            "min": 0,
            "orientation": "horizontal",
            "style": "IPY_MODEL_a85e0c8576a64412a7c9d22697fc97d5",
            "value": 0
          }
        },
        "9f13b0b1fd4b4ee48b4a98ce95ed0b8c": {
          "model_module": "@jupyter-widgets/controls",
          "model_name": "HBoxModel",
          "state": {
            "_dom_classes": [],
            "_model_module": "@jupyter-widgets/controls",
            "_model_module_version": "1.5.0",
            "_model_name": "HBoxModel",
            "_view_count": null,
            "_view_module": "@jupyter-widgets/controls",
            "_view_module_version": "1.5.0",
            "_view_name": "HBoxView",
            "box_style": "",
            "children": [
              "IPY_MODEL_6c8d23756cb74583bdbf042ab2555c73",
              "IPY_MODEL_8a04cadc43e24ca39f1bdfe0f81f4ae9"
            ],
            "layout": "IPY_MODEL_86409fed62f141d7b7695a85797c406e"
          }
        },
        "a85e0c8576a64412a7c9d22697fc97d5": {
          "model_module": "@jupyter-widgets/controls",
          "model_name": "ProgressStyleModel",
          "state": {
            "_model_module": "@jupyter-widgets/controls",
            "_model_module_version": "1.5.0",
            "_model_name": "ProgressStyleModel",
            "_view_count": null,
            "_view_module": "@jupyter-widgets/base",
            "_view_module_version": "1.2.0",
            "_view_name": "StyleView",
            "bar_color": null,
            "description_width": "initial"
          }
        },
        "b6b2f0246c6341cbaccbf2f299f16155": {
          "model_module": "@jupyter-widgets/controls",
          "model_name": "HBoxModel",
          "state": {
            "_dom_classes": [],
            "_model_module": "@jupyter-widgets/controls",
            "_model_module_version": "1.5.0",
            "_model_name": "HBoxModel",
            "_view_count": null,
            "_view_module": "@jupyter-widgets/controls",
            "_view_module_version": "1.5.0",
            "_view_name": "HBoxView",
            "box_style": "",
            "children": [
              "IPY_MODEL_dce8a82ce7eb4d5392d3832fd90d9dc7",
              "IPY_MODEL_ba9470f8fa2247679566513548de3537"
            ],
            "layout": "IPY_MODEL_52a1cb808fee4e5785a9c85c7877455c"
          }
        },
        "b7e0d73351ab4a5eb496772be9db588e": {
          "model_module": "@jupyter-widgets/controls",
          "model_name": "FloatProgressModel",
          "state": {
            "_dom_classes": [],
            "_model_module": "@jupyter-widgets/controls",
            "_model_module_version": "1.5.0",
            "_model_name": "FloatProgressModel",
            "_view_count": null,
            "_view_module": "@jupyter-widgets/controls",
            "_view_module_version": "1.5.0",
            "_view_name": "ProgressView",
            "bar_style": "success",
            "description": "Dl Size...: ",
            "description_tooltip": null,
            "layout": "IPY_MODEL_7c1ed20fd8d04df1a61e0bc5059a2c2c",
            "max": 1,
            "min": 0,
            "orientation": "horizontal",
            "style": "IPY_MODEL_d6b8949b761a4d9badb60311f6b81270",
            "value": 0
          }
        },
        "ba9470f8fa2247679566513548de3537": {
          "model_module": "@jupyter-widgets/controls",
          "model_name": "HTMLModel",
          "state": {
            "_dom_classes": [],
            "_model_module": "@jupyter-widgets/controls",
            "_model_module_version": "1.5.0",
            "_model_name": "HTMLModel",
            "_view_count": null,
            "_view_module": "@jupyter-widgets/controls",
            "_view_module_version": "1.5.0",
            "_view_name": "HTMLView",
            "description": "",
            "description_tooltip": null,
            "layout": "IPY_MODEL_fa721b0547aa46f7862184788a4bf709",
            "placeholder": "​",
            "style": "IPY_MODEL_2a7f46f9e3b54f63be1e8e65897499e0",
            "value": " 1/1 [00:00&lt;00:00,  2.55 file/s]"
          }
        },
        "c07c5869bd2a4698ade728bebced41ef": {
          "model_module": "@jupyter-widgets/controls",
          "model_name": "DescriptionStyleModel",
          "state": {
            "_model_module": "@jupyter-widgets/controls",
            "_model_module_version": "1.5.0",
            "_model_name": "DescriptionStyleModel",
            "_view_count": null,
            "_view_module": "@jupyter-widgets/base",
            "_view_module_version": "1.2.0",
            "_view_name": "StyleView",
            "description_width": ""
          }
        },
        "c1cf1270fcd840b4a00b0b4fd4ba1c73": {
          "model_module": "@jupyter-widgets/controls",
          "model_name": "DescriptionStyleModel",
          "state": {
            "_model_module": "@jupyter-widgets/controls",
            "_model_module_version": "1.5.0",
            "_model_name": "DescriptionStyleModel",
            "_view_count": null,
            "_view_module": "@jupyter-widgets/base",
            "_view_module_version": "1.2.0",
            "_view_name": "StyleView",
            "description_width": ""
          }
        },
        "ccdb9659932242a1994b792dbb391971": {
          "model_module": "@jupyter-widgets/controls",
          "model_name": "DescriptionStyleModel",
          "state": {
            "_model_module": "@jupyter-widgets/controls",
            "_model_module_version": "1.5.0",
            "_model_name": "DescriptionStyleModel",
            "_view_count": null,
            "_view_module": "@jupyter-widgets/base",
            "_view_module_version": "1.2.0",
            "_view_name": "StyleView",
            "description_width": ""
          }
        },
        "cfcdabc4e6ec4449b561bf3acd573bcc": {
          "model_module": "@jupyter-widgets/base",
          "model_name": "LayoutModel",
          "state": {
            "_model_module": "@jupyter-widgets/base",
            "_model_module_version": "1.2.0",
            "_model_name": "LayoutModel",
            "_view_count": null,
            "_view_module": "@jupyter-widgets/base",
            "_view_module_version": "1.2.0",
            "_view_name": "LayoutView",
            "align_content": null,
            "align_items": null,
            "align_self": null,
            "border": null,
            "bottom": null,
            "display": null,
            "flex": null,
            "flex_flow": null,
            "grid_area": null,
            "grid_auto_columns": null,
            "grid_auto_flow": null,
            "grid_auto_rows": null,
            "grid_column": null,
            "grid_gap": null,
            "grid_row": null,
            "grid_template_areas": null,
            "grid_template_columns": null,
            "grid_template_rows": null,
            "height": null,
            "justify_content": null,
            "justify_items": null,
            "left": null,
            "margin": null,
            "max_height": null,
            "max_width": null,
            "min_height": null,
            "min_width": null,
            "object_fit": null,
            "object_position": null,
            "order": null,
            "overflow": null,
            "overflow_x": null,
            "overflow_y": null,
            "padding": null,
            "right": null,
            "top": null,
            "visibility": null,
            "width": null
          }
        },
        "d153bae6116d40fe88518c775dc6f558": {
          "model_module": "@jupyter-widgets/base",
          "model_name": "LayoutModel",
          "state": {
            "_model_module": "@jupyter-widgets/base",
            "_model_module_version": "1.2.0",
            "_model_name": "LayoutModel",
            "_view_count": null,
            "_view_module": "@jupyter-widgets/base",
            "_view_module_version": "1.2.0",
            "_view_name": "LayoutView",
            "align_content": null,
            "align_items": null,
            "align_self": null,
            "border": null,
            "bottom": null,
            "display": null,
            "flex": null,
            "flex_flow": null,
            "grid_area": null,
            "grid_auto_columns": null,
            "grid_auto_flow": null,
            "grid_auto_rows": null,
            "grid_column": null,
            "grid_gap": null,
            "grid_row": null,
            "grid_template_areas": null,
            "grid_template_columns": null,
            "grid_template_rows": null,
            "height": null,
            "justify_content": null,
            "justify_items": null,
            "left": null,
            "margin": null,
            "max_height": null,
            "max_width": null,
            "min_height": null,
            "min_width": null,
            "object_fit": null,
            "object_position": null,
            "order": null,
            "overflow": null,
            "overflow_x": null,
            "overflow_y": null,
            "padding": null,
            "right": null,
            "top": null,
            "visibility": null,
            "width": null
          }
        },
        "d257a8bb8b8949b89f2af0d859b968d3": {
          "model_module": "@jupyter-widgets/controls",
          "model_name": "HBoxModel",
          "state": {
            "_dom_classes": [],
            "_model_module": "@jupyter-widgets/controls",
            "_model_module_version": "1.5.0",
            "_model_name": "HBoxModel",
            "_view_count": null,
            "_view_module": "@jupyter-widgets/controls",
            "_view_module_version": "1.5.0",
            "_view_name": "HBoxView",
            "box_style": "",
            "children": [
              "IPY_MODEL_9ee03d89ca104d2c85337722285fbce3",
              "IPY_MODEL_dd86e53bdd20413b9a7de32dc25e01c3"
            ],
            "layout": "IPY_MODEL_ff7183f04b4545548435f353f4b4d680"
          }
        },
        "d6b8949b761a4d9badb60311f6b81270": {
          "model_module": "@jupyter-widgets/controls",
          "model_name": "ProgressStyleModel",
          "state": {
            "_model_module": "@jupyter-widgets/controls",
            "_model_module_version": "1.5.0",
            "_model_name": "ProgressStyleModel",
            "_view_count": null,
            "_view_module": "@jupyter-widgets/base",
            "_view_module_version": "1.2.0",
            "_view_name": "StyleView",
            "bar_color": null,
            "description_width": "initial"
          }
        },
        "d741c058374b46c1a2ab3bd2ed22d8af": {
          "model_module": "@jupyter-widgets/controls",
          "model_name": "HTMLModel",
          "state": {
            "_dom_classes": [],
            "_model_module": "@jupyter-widgets/controls",
            "_model_module_version": "1.5.0",
            "_model_name": "HTMLModel",
            "_view_count": null,
            "_view_module": "@jupyter-widgets/controls",
            "_view_module_version": "1.5.0",
            "_view_name": "HTMLView",
            "description": "",
            "description_tooltip": null,
            "layout": "IPY_MODEL_0e1e03483a79437c91713015c1b0f98b",
            "placeholder": "​",
            "style": "IPY_MODEL_6f1081f7d1ce45ec85ade01232dc8e33",
            "value": " 0/7600 [00:00&lt;?, ? examples/s]"
          }
        },
        "d75bf8c6212f43caafd944ce1720a294": {
          "model_module": "@jupyter-widgets/controls",
          "model_name": "ProgressStyleModel",
          "state": {
            "_model_module": "@jupyter-widgets/controls",
            "_model_module_version": "1.5.0",
            "_model_name": "ProgressStyleModel",
            "_view_count": null,
            "_view_module": "@jupyter-widgets/base",
            "_view_module_version": "1.2.0",
            "_view_name": "StyleView",
            "bar_color": null,
            "description_width": "initial"
          }
        },
        "dbac1ca0e53f41269e38d142a09b8be7": {
          "model_module": "@jupyter-widgets/controls",
          "model_name": "HBoxModel",
          "state": {
            "_dom_classes": [],
            "_model_module": "@jupyter-widgets/controls",
            "_model_module_version": "1.5.0",
            "_model_name": "HBoxModel",
            "_view_count": null,
            "_view_module": "@jupyter-widgets/controls",
            "_view_module_version": "1.5.0",
            "_view_name": "HBoxView",
            "box_style": "",
            "children": [
              "IPY_MODEL_800c9ccaee3c45499e57face9124644f",
              "IPY_MODEL_d741c058374b46c1a2ab3bd2ed22d8af"
            ],
            "layout": "IPY_MODEL_4dcb226a8e4e4ccb9e8fc5218c84767f"
          }
        },
        "dce8a82ce7eb4d5392d3832fd90d9dc7": {
          "model_module": "@jupyter-widgets/controls",
          "model_name": "FloatProgressModel",
          "state": {
            "_dom_classes": [],
            "_model_module": "@jupyter-widgets/controls",
            "_model_module_version": "1.5.0",
            "_model_name": "FloatProgressModel",
            "_view_count": null,
            "_view_module": "@jupyter-widgets/controls",
            "_view_module_version": "1.5.0",
            "_view_name": "ProgressView",
            "bar_style": "success",
            "description": "Extraction completed...: 100%",
            "description_tooltip": null,
            "layout": "IPY_MODEL_509d7153c2b54242a17de193cc041439",
            "max": 1,
            "min": 0,
            "orientation": "horizontal",
            "style": "IPY_MODEL_1adea849c8aa46d4a5b22102f81886a2",
            "value": 1
          }
        },
        "dd86e53bdd20413b9a7de32dc25e01c3": {
          "model_module": "@jupyter-widgets/controls",
          "model_name": "HTMLModel",
          "state": {
            "_dom_classes": [],
            "_model_module": "@jupyter-widgets/controls",
            "_model_module_version": "1.5.0",
            "_model_name": "HTMLModel",
            "_view_count": null,
            "_view_module": "@jupyter-widgets/controls",
            "_view_module_version": "1.5.0",
            "_view_name": "HTMLView",
            "description": "",
            "description_tooltip": null,
            "layout": "IPY_MODEL_4953d5fbb1424510bb5f1d09aae0ea01",
            "placeholder": "​",
            "style": "IPY_MODEL_e108a17b6afb44e1819cca6629ff3c04",
            "value": " 0/0 [00:00&lt;?, ? url/s]"
          }
        },
        "e0388d4052014ffeb6d394ce5bd003a1": {
          "model_module": "@jupyter-widgets/base",
          "model_name": "LayoutModel",
          "state": {
            "_model_module": "@jupyter-widgets/base",
            "_model_module_version": "1.2.0",
            "_model_name": "LayoutModel",
            "_view_count": null,
            "_view_module": "@jupyter-widgets/base",
            "_view_module_version": "1.2.0",
            "_view_name": "LayoutView",
            "align_content": null,
            "align_items": null,
            "align_self": null,
            "border": null,
            "bottom": null,
            "display": null,
            "flex": null,
            "flex_flow": null,
            "grid_area": null,
            "grid_auto_columns": null,
            "grid_auto_flow": null,
            "grid_auto_rows": null,
            "grid_column": null,
            "grid_gap": null,
            "grid_row": null,
            "grid_template_areas": null,
            "grid_template_columns": null,
            "grid_template_rows": null,
            "height": null,
            "justify_content": null,
            "justify_items": null,
            "left": null,
            "margin": null,
            "max_height": null,
            "max_width": null,
            "min_height": null,
            "min_width": null,
            "object_fit": null,
            "object_position": null,
            "order": null,
            "overflow": null,
            "overflow_x": null,
            "overflow_y": null,
            "padding": null,
            "right": null,
            "top": null,
            "visibility": null,
            "width": null
          }
        },
        "e108a17b6afb44e1819cca6629ff3c04": {
          "model_module": "@jupyter-widgets/controls",
          "model_name": "DescriptionStyleModel",
          "state": {
            "_model_module": "@jupyter-widgets/controls",
            "_model_module_version": "1.5.0",
            "_model_name": "DescriptionStyleModel",
            "_view_count": null,
            "_view_module": "@jupyter-widgets/base",
            "_view_module_version": "1.2.0",
            "_view_name": "StyleView",
            "description_width": ""
          }
        },
        "e8b8a79069214388b8024d15f1f020ef": {
          "model_module": "@jupyter-widgets/controls",
          "model_name": "HTMLModel",
          "state": {
            "_dom_classes": [],
            "_model_module": "@jupyter-widgets/controls",
            "_model_module_version": "1.5.0",
            "_model_name": "HTMLModel",
            "_view_count": null,
            "_view_module": "@jupyter-widgets/controls",
            "_view_module_version": "1.5.0",
            "_view_name": "HTMLView",
            "description": "",
            "description_tooltip": null,
            "layout": "IPY_MODEL_06cea5fe11ae4c2a96c7c7e663a9bbef",
            "placeholder": "​",
            "style": "IPY_MODEL_ccdb9659932242a1994b792dbb391971",
            "value": " 7600/0 [00:01&lt;00:00, 4541.86 examples/s]"
          }
        },
        "eb2658a24ede4e59a0e5a0208a036ce2": {
          "model_module": "@jupyter-widgets/controls",
          "model_name": "HTMLModel",
          "state": {
            "_dom_classes": [],
            "_model_module": "@jupyter-widgets/controls",
            "_model_module_version": "1.5.0",
            "_model_name": "HTMLModel",
            "_view_count": null,
            "_view_module": "@jupyter-widgets/controls",
            "_view_module_version": "1.5.0",
            "_view_name": "HTMLView",
            "description": "",
            "description_tooltip": null,
            "layout": "IPY_MODEL_7ccddd7d1dca4d63afd9f0b62fa58a4b",
            "placeholder": "​",
            "style": "IPY_MODEL_2cc746e23a734e6fa04aa838f9905e13",
            "value": " 120000/0 [00:25&lt;00:00, 5118.77 examples/s]"
          }
        },
        "f94112361e014348b8df8d79e2abb19d": {
          "model_module": "@jupyter-widgets/controls",
          "model_name": "HBoxModel",
          "state": {
            "_dom_classes": [],
            "_model_module": "@jupyter-widgets/controls",
            "_model_module_version": "1.5.0",
            "_model_name": "HBoxModel",
            "_view_count": null,
            "_view_module": "@jupyter-widgets/controls",
            "_view_module_version": "1.5.0",
            "_view_name": "HBoxView",
            "box_style": "",
            "children": [
              "IPY_MODEL_328635009338479a8525f34b25372452",
              "IPY_MODEL_e8b8a79069214388b8024d15f1f020ef"
            ],
            "layout": "IPY_MODEL_28445e57533c45a8820e47f64bf910f2"
          }
        },
        "fa721b0547aa46f7862184788a4bf709": {
          "model_module": "@jupyter-widgets/base",
          "model_name": "LayoutModel",
          "state": {
            "_model_module": "@jupyter-widgets/base",
            "_model_module_version": "1.2.0",
            "_model_name": "LayoutModel",
            "_view_count": null,
            "_view_module": "@jupyter-widgets/base",
            "_view_module_version": "1.2.0",
            "_view_name": "LayoutView",
            "align_content": null,
            "align_items": null,
            "align_self": null,
            "border": null,
            "bottom": null,
            "display": null,
            "flex": null,
            "flex_flow": null,
            "grid_area": null,
            "grid_auto_columns": null,
            "grid_auto_flow": null,
            "grid_auto_rows": null,
            "grid_column": null,
            "grid_gap": null,
            "grid_row": null,
            "grid_template_areas": null,
            "grid_template_columns": null,
            "grid_template_rows": null,
            "height": null,
            "justify_content": null,
            "justify_items": null,
            "left": null,
            "margin": null,
            "max_height": null,
            "max_width": null,
            "min_height": null,
            "min_width": null,
            "object_fit": null,
            "object_position": null,
            "order": null,
            "overflow": null,
            "overflow_x": null,
            "overflow_y": null,
            "padding": null,
            "right": null,
            "top": null,
            "visibility": null,
            "width": null
          }
        },
        "ff7183f04b4545548435f353f4b4d680": {
          "model_module": "@jupyter-widgets/base",
          "model_name": "LayoutModel",
          "state": {
            "_model_module": "@jupyter-widgets/base",
            "_model_module_version": "1.2.0",
            "_model_name": "LayoutModel",
            "_view_count": null,
            "_view_module": "@jupyter-widgets/base",
            "_view_module_version": "1.2.0",
            "_view_name": "LayoutView",
            "align_content": null,
            "align_items": null,
            "align_self": null,
            "border": null,
            "bottom": null,
            "display": null,
            "flex": null,
            "flex_flow": null,
            "grid_area": null,
            "grid_auto_columns": null,
            "grid_auto_flow": null,
            "grid_auto_rows": null,
            "grid_column": null,
            "grid_gap": null,
            "grid_row": null,
            "grid_template_areas": null,
            "grid_template_columns": null,
            "grid_template_rows": null,
            "height": null,
            "justify_content": null,
            "justify_items": null,
            "left": null,
            "margin": null,
            "max_height": null,
            "max_width": null,
            "min_height": null,
            "min_width": null,
            "object_fit": null,
            "object_position": null,
            "order": null,
            "overflow": null,
            "overflow_x": null,
            "overflow_y": null,
            "padding": null,
            "right": null,
            "top": null,
            "visibility": null,
            "width": null
          }
        },
        "ffcfa672860a4b119eb5178fb78461c6": {
          "model_module": "@jupyter-widgets/controls",
          "model_name": "ProgressStyleModel",
          "state": {
            "_model_module": "@jupyter-widgets/controls",
            "_model_module_version": "1.5.0",
            "_model_name": "ProgressStyleModel",
            "_view_count": null,
            "_view_module": "@jupyter-widgets/base",
            "_view_module_version": "1.2.0",
            "_view_name": "StyleView",
            "bar_color": null,
            "description_width": "initial"
          }
        }
      }
    }
  },
  "nbformat": 4,
  "nbformat_minor": 1
}